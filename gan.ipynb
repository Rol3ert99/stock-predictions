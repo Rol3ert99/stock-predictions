{
  "cells": [
    {
      "cell_type": "code",
      "execution_count": 37,
      "metadata": {
        "colab": {
          "base_uri": "https://localhost:8080/",
          "height": 423
        },
        "id": "J2k34i2EMN6N",
        "outputId": "b5229acb-d67a-433d-fa56-cc0c22e97045"
      },
      "outputs": [
        {
          "data": {
            "text/html": [
              "<div>\n",
              "<style scoped>\n",
              "    .dataframe tbody tr th:only-of-type {\n",
              "        vertical-align: middle;\n",
              "    }\n",
              "\n",
              "    .dataframe tbody tr th {\n",
              "        vertical-align: top;\n",
              "    }\n",
              "\n",
              "    .dataframe thead th {\n",
              "        text-align: right;\n",
              "    }\n",
              "</style>\n",
              "<table border=\"1\" class=\"dataframe\">\n",
              "  <thead>\n",
              "    <tr style=\"text-align: right;\">\n",
              "      <th></th>\n",
              "      <th>Index</th>\n",
              "      <th>Date</th>\n",
              "      <th>Open</th>\n",
              "      <th>High</th>\n",
              "      <th>Low</th>\n",
              "      <th>Close</th>\n",
              "      <th>Adj Close</th>\n",
              "      <th>Volume</th>\n",
              "    </tr>\n",
              "  </thead>\n",
              "  <tbody>\n",
              "    <tr>\n",
              "      <th>0</th>\n",
              "      <td>NYA</td>\n",
              "      <td>1965-12-31</td>\n",
              "      <td>528.690002</td>\n",
              "      <td>528.690002</td>\n",
              "      <td>528.690002</td>\n",
              "      <td>528.690002</td>\n",
              "      <td>528.690002</td>\n",
              "      <td>0.0</td>\n",
              "    </tr>\n",
              "    <tr>\n",
              "      <th>1</th>\n",
              "      <td>NYA</td>\n",
              "      <td>1966-01-03</td>\n",
              "      <td>527.210022</td>\n",
              "      <td>527.210022</td>\n",
              "      <td>527.210022</td>\n",
              "      <td>527.210022</td>\n",
              "      <td>527.210022</td>\n",
              "      <td>0.0</td>\n",
              "    </tr>\n",
              "    <tr>\n",
              "      <th>2</th>\n",
              "      <td>NYA</td>\n",
              "      <td>1966-01-04</td>\n",
              "      <td>527.840027</td>\n",
              "      <td>527.840027</td>\n",
              "      <td>527.840027</td>\n",
              "      <td>527.840027</td>\n",
              "      <td>527.840027</td>\n",
              "      <td>0.0</td>\n",
              "    </tr>\n",
              "    <tr>\n",
              "      <th>3</th>\n",
              "      <td>NYA</td>\n",
              "      <td>1966-01-05</td>\n",
              "      <td>531.119995</td>\n",
              "      <td>531.119995</td>\n",
              "      <td>531.119995</td>\n",
              "      <td>531.119995</td>\n",
              "      <td>531.119995</td>\n",
              "      <td>0.0</td>\n",
              "    </tr>\n",
              "    <tr>\n",
              "      <th>4</th>\n",
              "      <td>NYA</td>\n",
              "      <td>1966-01-06</td>\n",
              "      <td>532.070007</td>\n",
              "      <td>532.070007</td>\n",
              "      <td>532.070007</td>\n",
              "      <td>532.070007</td>\n",
              "      <td>532.070007</td>\n",
              "      <td>0.0</td>\n",
              "    </tr>\n",
              "    <tr>\n",
              "      <th>...</th>\n",
              "      <td>...</td>\n",
              "      <td>...</td>\n",
              "      <td>...</td>\n",
              "      <td>...</td>\n",
              "      <td>...</td>\n",
              "      <td>...</td>\n",
              "      <td>...</td>\n",
              "      <td>...</td>\n",
              "    </tr>\n",
              "    <tr>\n",
              "      <th>112452</th>\n",
              "      <td>N100</td>\n",
              "      <td>2021-05-27</td>\n",
              "      <td>1241.119995</td>\n",
              "      <td>1251.910034</td>\n",
              "      <td>1241.119995</td>\n",
              "      <td>1247.069946</td>\n",
              "      <td>1247.069946</td>\n",
              "      <td>379696400.0</td>\n",
              "    </tr>\n",
              "    <tr>\n",
              "      <th>112453</th>\n",
              "      <td>N100</td>\n",
              "      <td>2021-05-28</td>\n",
              "      <td>1249.469971</td>\n",
              "      <td>1259.209961</td>\n",
              "      <td>1249.030029</td>\n",
              "      <td>1256.599976</td>\n",
              "      <td>1256.599976</td>\n",
              "      <td>160773400.0</td>\n",
              "    </tr>\n",
              "    <tr>\n",
              "      <th>112454</th>\n",
              "      <td>N100</td>\n",
              "      <td>2021-05-31</td>\n",
              "      <td>1256.079956</td>\n",
              "      <td>1258.880005</td>\n",
              "      <td>1248.140015</td>\n",
              "      <td>1248.930054</td>\n",
              "      <td>1248.930054</td>\n",
              "      <td>91173700.0</td>\n",
              "    </tr>\n",
              "    <tr>\n",
              "      <th>112455</th>\n",
              "      <td>N100</td>\n",
              "      <td>2021-06-01</td>\n",
              "      <td>1254.609985</td>\n",
              "      <td>1265.660034</td>\n",
              "      <td>1254.609985</td>\n",
              "      <td>1258.579956</td>\n",
              "      <td>1258.579956</td>\n",
              "      <td>155179900.0</td>\n",
              "    </tr>\n",
              "    <tr>\n",
              "      <th>112456</th>\n",
              "      <td>N100</td>\n",
              "      <td>2021-06-02</td>\n",
              "      <td>1258.489990</td>\n",
              "      <td>1263.709961</td>\n",
              "      <td>1258.239990</td>\n",
              "      <td>1263.619995</td>\n",
              "      <td>1263.619995</td>\n",
              "      <td>148465000.0</td>\n",
              "    </tr>\n",
              "  </tbody>\n",
              "</table>\n",
              "<p>112457 rows × 8 columns</p>\n",
              "</div>"
            ],
            "text/plain": [
              "       Index        Date         Open         High          Low        Close  \\\n",
              "0        NYA  1965-12-31   528.690002   528.690002   528.690002   528.690002   \n",
              "1        NYA  1966-01-03   527.210022   527.210022   527.210022   527.210022   \n",
              "2        NYA  1966-01-04   527.840027   527.840027   527.840027   527.840027   \n",
              "3        NYA  1966-01-05   531.119995   531.119995   531.119995   531.119995   \n",
              "4        NYA  1966-01-06   532.070007   532.070007   532.070007   532.070007   \n",
              "...      ...         ...          ...          ...          ...          ...   \n",
              "112452  N100  2021-05-27  1241.119995  1251.910034  1241.119995  1247.069946   \n",
              "112453  N100  2021-05-28  1249.469971  1259.209961  1249.030029  1256.599976   \n",
              "112454  N100  2021-05-31  1256.079956  1258.880005  1248.140015  1248.930054   \n",
              "112455  N100  2021-06-01  1254.609985  1265.660034  1254.609985  1258.579956   \n",
              "112456  N100  2021-06-02  1258.489990  1263.709961  1258.239990  1263.619995   \n",
              "\n",
              "          Adj Close       Volume  \n",
              "0        528.690002          0.0  \n",
              "1        527.210022          0.0  \n",
              "2        527.840027          0.0  \n",
              "3        531.119995          0.0  \n",
              "4        532.070007          0.0  \n",
              "...             ...          ...  \n",
              "112452  1247.069946  379696400.0  \n",
              "112453  1256.599976  160773400.0  \n",
              "112454  1248.930054   91173700.0  \n",
              "112455  1258.579956  155179900.0  \n",
              "112456  1263.619995  148465000.0  \n",
              "\n",
              "[112457 rows x 8 columns]"
            ]
          },
          "execution_count": 37,
          "metadata": {},
          "output_type": "execute_result"
        }
      ],
      "source": [
        "import pandas as pd\n",
        "import numpy as np\n",
        "from sklearn.preprocessing import StandardScaler\n",
        "import tensorflow as tf\n",
        "\n",
        "df = pd.read_csv('indexData.csv')\n",
        "df"
      ]
    },
    {
      "cell_type": "code",
      "execution_count": 38,
      "metadata": {
        "id": "F3y_fqrhMN6O"
      },
      "outputs": [],
      "source": [
        "dfn = df[df['Index'] == 'NYA'].dropna()"
      ]
    },
    {
      "cell_type": "code",
      "execution_count": 39,
      "metadata": {
        "colab": {
          "base_uri": "https://localhost:8080/",
          "height": 423
        },
        "id": "hsTX7r4_MN6O",
        "outputId": "ef941b59-f741-483a-8e31-3c953a8f855d"
      },
      "outputs": [
        {
          "data": {
            "text/html": [
              "<div>\n",
              "<style scoped>\n",
              "    .dataframe tbody tr th:only-of-type {\n",
              "        vertical-align: middle;\n",
              "    }\n",
              "\n",
              "    .dataframe tbody tr th {\n",
              "        vertical-align: top;\n",
              "    }\n",
              "\n",
              "    .dataframe thead th {\n",
              "        text-align: right;\n",
              "    }\n",
              "</style>\n",
              "<table border=\"1\" class=\"dataframe\">\n",
              "  <thead>\n",
              "    <tr style=\"text-align: right;\">\n",
              "      <th></th>\n",
              "      <th>Index</th>\n",
              "      <th>Date</th>\n",
              "      <th>Open</th>\n",
              "      <th>High</th>\n",
              "      <th>Low</th>\n",
              "      <th>Close</th>\n",
              "      <th>Adj Close</th>\n",
              "      <th>Volume</th>\n",
              "    </tr>\n",
              "  </thead>\n",
              "  <tbody>\n",
              "    <tr>\n",
              "      <th>0</th>\n",
              "      <td>NYA</td>\n",
              "      <td>1965-12-31</td>\n",
              "      <td>528.690002</td>\n",
              "      <td>528.690002</td>\n",
              "      <td>528.690002</td>\n",
              "      <td>528.690002</td>\n",
              "      <td>528.690002</td>\n",
              "      <td>0.000000e+00</td>\n",
              "    </tr>\n",
              "    <tr>\n",
              "      <th>1</th>\n",
              "      <td>NYA</td>\n",
              "      <td>1966-01-03</td>\n",
              "      <td>527.210022</td>\n",
              "      <td>527.210022</td>\n",
              "      <td>527.210022</td>\n",
              "      <td>527.210022</td>\n",
              "      <td>527.210022</td>\n",
              "      <td>0.000000e+00</td>\n",
              "    </tr>\n",
              "    <tr>\n",
              "      <th>2</th>\n",
              "      <td>NYA</td>\n",
              "      <td>1966-01-04</td>\n",
              "      <td>527.840027</td>\n",
              "      <td>527.840027</td>\n",
              "      <td>527.840027</td>\n",
              "      <td>527.840027</td>\n",
              "      <td>527.840027</td>\n",
              "      <td>0.000000e+00</td>\n",
              "    </tr>\n",
              "    <tr>\n",
              "      <th>3</th>\n",
              "      <td>NYA</td>\n",
              "      <td>1966-01-05</td>\n",
              "      <td>531.119995</td>\n",
              "      <td>531.119995</td>\n",
              "      <td>531.119995</td>\n",
              "      <td>531.119995</td>\n",
              "      <td>531.119995</td>\n",
              "      <td>0.000000e+00</td>\n",
              "    </tr>\n",
              "    <tr>\n",
              "      <th>4</th>\n",
              "      <td>NYA</td>\n",
              "      <td>1966-01-06</td>\n",
              "      <td>532.070007</td>\n",
              "      <td>532.070007</td>\n",
              "      <td>532.070007</td>\n",
              "      <td>532.070007</td>\n",
              "      <td>532.070007</td>\n",
              "      <td>0.000000e+00</td>\n",
              "    </tr>\n",
              "    <tr>\n",
              "      <th>...</th>\n",
              "      <td>...</td>\n",
              "      <td>...</td>\n",
              "      <td>...</td>\n",
              "      <td>...</td>\n",
              "      <td>...</td>\n",
              "      <td>...</td>\n",
              "      <td>...</td>\n",
              "      <td>...</td>\n",
              "    </tr>\n",
              "    <tr>\n",
              "      <th>13943</th>\n",
              "      <td>NYA</td>\n",
              "      <td>2021-05-24</td>\n",
              "      <td>16375.000000</td>\n",
              "      <td>16508.519530</td>\n",
              "      <td>16375.000000</td>\n",
              "      <td>16464.689450</td>\n",
              "      <td>16464.689450</td>\n",
              "      <td>2.947400e+09</td>\n",
              "    </tr>\n",
              "    <tr>\n",
              "      <th>13944</th>\n",
              "      <td>NYA</td>\n",
              "      <td>2021-05-25</td>\n",
              "      <td>16464.689450</td>\n",
              "      <td>16525.810550</td>\n",
              "      <td>16375.150390</td>\n",
              "      <td>16390.189450</td>\n",
              "      <td>16390.189450</td>\n",
              "      <td>3.420870e+09</td>\n",
              "    </tr>\n",
              "    <tr>\n",
              "      <th>13945</th>\n",
              "      <td>NYA</td>\n",
              "      <td>2021-05-26</td>\n",
              "      <td>16390.189450</td>\n",
              "      <td>16466.339840</td>\n",
              "      <td>16388.320310</td>\n",
              "      <td>16451.960940</td>\n",
              "      <td>16451.960940</td>\n",
              "      <td>3.674490e+09</td>\n",
              "    </tr>\n",
              "    <tr>\n",
              "      <th>13946</th>\n",
              "      <td>NYA</td>\n",
              "      <td>2021-05-27</td>\n",
              "      <td>16451.960940</td>\n",
              "      <td>16546.359380</td>\n",
              "      <td>16451.960940</td>\n",
              "      <td>16531.949220</td>\n",
              "      <td>16531.949220</td>\n",
              "      <td>5.201110e+09</td>\n",
              "    </tr>\n",
              "    <tr>\n",
              "      <th>13947</th>\n",
              "      <td>NYA</td>\n",
              "      <td>2021-05-28</td>\n",
              "      <td>16531.949220</td>\n",
              "      <td>16588.689450</td>\n",
              "      <td>16531.949220</td>\n",
              "      <td>16555.660160</td>\n",
              "      <td>16555.660160</td>\n",
              "      <td>4.199270e+09</td>\n",
              "    </tr>\n",
              "  </tbody>\n",
              "</table>\n",
              "<p>13947 rows × 8 columns</p>\n",
              "</div>"
            ],
            "text/plain": [
              "      Index        Date          Open          High           Low  \\\n",
              "0       NYA  1965-12-31    528.690002    528.690002    528.690002   \n",
              "1       NYA  1966-01-03    527.210022    527.210022    527.210022   \n",
              "2       NYA  1966-01-04    527.840027    527.840027    527.840027   \n",
              "3       NYA  1966-01-05    531.119995    531.119995    531.119995   \n",
              "4       NYA  1966-01-06    532.070007    532.070007    532.070007   \n",
              "...     ...         ...           ...           ...           ...   \n",
              "13943   NYA  2021-05-24  16375.000000  16508.519530  16375.000000   \n",
              "13944   NYA  2021-05-25  16464.689450  16525.810550  16375.150390   \n",
              "13945   NYA  2021-05-26  16390.189450  16466.339840  16388.320310   \n",
              "13946   NYA  2021-05-27  16451.960940  16546.359380  16451.960940   \n",
              "13947   NYA  2021-05-28  16531.949220  16588.689450  16531.949220   \n",
              "\n",
              "              Close     Adj Close        Volume  \n",
              "0        528.690002    528.690002  0.000000e+00  \n",
              "1        527.210022    527.210022  0.000000e+00  \n",
              "2        527.840027    527.840027  0.000000e+00  \n",
              "3        531.119995    531.119995  0.000000e+00  \n",
              "4        532.070007    532.070007  0.000000e+00  \n",
              "...             ...           ...           ...  \n",
              "13943  16464.689450  16464.689450  2.947400e+09  \n",
              "13944  16390.189450  16390.189450  3.420870e+09  \n",
              "13945  16451.960940  16451.960940  3.674490e+09  \n",
              "13946  16531.949220  16531.949220  5.201110e+09  \n",
              "13947  16555.660160  16555.660160  4.199270e+09  \n",
              "\n",
              "[13947 rows x 8 columns]"
            ]
          },
          "execution_count": 39,
          "metadata": {},
          "output_type": "execute_result"
        }
      ],
      "source": [
        "dfn"
      ]
    },
    {
      "cell_type": "code",
      "execution_count": 40,
      "metadata": {
        "colab": {
          "base_uri": "https://localhost:8080/"
        },
        "id": "CdeuPazlMN6P",
        "outputId": "2e5cf847-0204-4bb8-f5b6-71d3b91f7c3c"
      },
      "outputs": [
        {
          "name": "stdout",
          "output_type": "stream",
          "text": [
            "<class 'pandas.core.frame.DataFrame'>\n",
            "Index: 13947 entries, 0 to 13947\n",
            "Data columns (total 8 columns):\n",
            " #   Column     Non-Null Count  Dtype  \n",
            "---  ------     --------------  -----  \n",
            " 0   Index      13947 non-null  object \n",
            " 1   Date       13947 non-null  object \n",
            " 2   Open       13947 non-null  float64\n",
            " 3   High       13947 non-null  float64\n",
            " 4   Low        13947 non-null  float64\n",
            " 5   Close      13947 non-null  float64\n",
            " 6   Adj Close  13947 non-null  float64\n",
            " 7   Volume     13947 non-null  float64\n",
            "dtypes: float64(6), object(2)\n",
            "memory usage: 980.6+ KB\n"
          ]
        }
      ],
      "source": [
        "dfn.info()"
      ]
    },
    {
      "cell_type": "code",
      "execution_count": 41,
      "metadata": {
        "id": "U_8D5oMhMN6P"
      },
      "outputs": [],
      "source": [
        "df_data = dfn.copy()"
      ]
    },
    {
      "cell_type": "code",
      "execution_count": 42,
      "metadata": {
        "id": "veqcFaWDMN6P"
      },
      "outputs": [],
      "source": [
        "df_data['Date'] = pd.to_datetime(df_data['Date'])"
      ]
    },
    {
      "cell_type": "code",
      "execution_count": 43,
      "metadata": {
        "id": "CmuWc-yaMN6P"
      },
      "outputs": [],
      "source": [
        "df_data['day_difference'] = df_data['Date'].diff().dt.days"
      ]
    },
    {
      "cell_type": "code",
      "execution_count": 44,
      "metadata": {
        "colab": {
          "base_uri": "https://localhost:8080/"
        },
        "id": "obpwQrwzMN6P",
        "outputId": "be8a018b-9f3c-42e9-fe4b-54b8a9e10c49"
      },
      "outputs": [
        {
          "data": {
            "text/plain": [
              "day_difference\n",
              "1.0    10889\n",
              "3.0     2556\n",
              "4.0      332\n",
              "2.0      165\n",
              "5.0        3\n",
              "7.0        1\n",
              "Name: count, dtype: int64"
            ]
          },
          "execution_count": 44,
          "metadata": {},
          "output_type": "execute_result"
        }
      ],
      "source": [
        "df_data['day_difference'].value_counts()"
      ]
    },
    {
      "cell_type": "code",
      "execution_count": 45,
      "metadata": {
        "id": "YWoa5bhEMN6Q"
      },
      "outputs": [],
      "source": [
        "df_data = dfn.copy()"
      ]
    },
    {
      "cell_type": "code",
      "execution_count": 46,
      "metadata": {
        "id": "TcC40A5NMN6Q"
      },
      "outputs": [],
      "source": [
        "df_data['Date'] = pd.to_datetime(df_data['Date'])"
      ]
    },
    {
      "cell_type": "code",
      "execution_count": 47,
      "metadata": {
        "id": "JHTsdSBsMN6Q"
      },
      "outputs": [],
      "source": [
        "df_data['day_difference'] = df_data['Date'].diff().dt.days"
      ]
    },
    {
      "cell_type": "code",
      "execution_count": 48,
      "metadata": {
        "colab": {
          "base_uri": "https://localhost:8080/"
        },
        "id": "DqIwIPv6MN6Q",
        "outputId": "623f5e3b-61f0-4124-e380-53eeaf7ff5e4"
      },
      "outputs": [
        {
          "data": {
            "text/plain": [
              "day_difference\n",
              "1.0    10889\n",
              "3.0     2556\n",
              "4.0      332\n",
              "2.0      165\n",
              "5.0        3\n",
              "7.0        1\n",
              "Name: count, dtype: int64"
            ]
          },
          "execution_count": 48,
          "metadata": {},
          "output_type": "execute_result"
        }
      ],
      "source": [
        "df_data['day_difference'].value_counts()"
      ]
    },
    {
      "cell_type": "code",
      "execution_count": 49,
      "metadata": {
        "colab": {
          "base_uri": "https://localhost:8080/"
        },
        "id": "Xc5GNgeKMN6Q",
        "outputId": "49b3d79c-ff63-4050-f1c8-905220fa188b"
      },
      "outputs": [
        {
          "data": {
            "text/plain": [
              "array([[  528.690002],\n",
              "       [  527.210022],\n",
              "       [  527.840027],\n",
              "       ...,\n",
              "       [16451.96094 ],\n",
              "       [16531.94922 ],\n",
              "       [16555.66016 ]])"
            ]
          },
          "execution_count": 49,
          "metadata": {},
          "output_type": "execute_result"
        }
      ],
      "source": [
        "df_data['Adj Close'].values.reshape(-1, 1)"
      ]
    },
    {
      "cell_type": "code",
      "execution_count": 50,
      "metadata": {
        "id": "05HS6N7EMN6Q"
      },
      "outputs": [],
      "source": [
        "scaler = StandardScaler()\n",
        "scaled_data = scaler.fit_transform(df_data['Adj Close'].values.reshape(-1, 1))"
      ]
    },
    {
      "cell_type": "code",
      "execution_count": 51,
      "metadata": {
        "colab": {
          "base_uri": "https://localhost:8080/"
        },
        "id": "epLdkccAMN6Q",
        "outputId": "2aff7d7a-df0c-4ac1-99a7-0d56f1773627"
      },
      "outputs": [
        {
          "data": {
            "text/plain": [
              "array([[-0.96274432],\n",
              "       [-0.96310748],\n",
              "       [-0.96295289],\n",
              "       ...,\n",
              "       [ 2.94450646],\n",
              "       [ 2.96413398],\n",
              "       [ 2.96995217]])"
            ]
          },
          "execution_count": 51,
          "metadata": {},
          "output_type": "execute_result"
        }
      ],
      "source": [
        "scaled_data"
      ]
    },
    {
      "cell_type": "code",
      "execution_count": 52,
      "metadata": {
        "id": "t2aTnHRlMN6Q"
      },
      "outputs": [],
      "source": [
        "window_size = 3"
      ]
    },
    {
      "cell_type": "code",
      "execution_count": 53,
      "metadata": {
        "id": "Gbnvy3htMN6Q"
      },
      "outputs": [],
      "source": [
        "X, y, y_gen = [], [], []\n",
        "\n",
        "for i in range(window_size, len(scaled_data)):\n",
        "  X.append(scaled_data[i-window_size:i, 0])\n",
        "  y.append(scaled_data[i, 0])\n",
        "  y_gen.append(scaled_data[i - window_size: i + 1, 0])"
      ]
    },
    {
      "cell_type": "code",
      "execution_count": 54,
      "metadata": {
        "colab": {
          "base_uri": "https://localhost:8080/"
        },
        "id": "8xBPPZfZMN6Q",
        "outputId": "94b052af-37f1-4081-8b7d-f1216789c975"
      },
      "outputs": [
        {
          "name": "stdout",
          "output_type": "stream",
          "text": [
            "[-0.96274432 -0.96310748 -0.96295289]\n",
            "-0.9621480527978078\n",
            "[-0.96274432 -0.96310748 -0.96295289 -0.96214805]\n"
          ]
        }
      ],
      "source": [
        "X, y, y_gen = np.array(X), np.array(y), np.array(y_gen)\n",
        "print(X[0])\n",
        "print(y[0])\n",
        "print(y_gen[0])"
      ]
    },
    {
      "cell_type": "code",
      "execution_count": 55,
      "metadata": {
        "id": "NW9PPn4NQuXJ"
      },
      "outputs": [],
      "source": [
        "X = np.reshape(X, (X.shape[0], X.shape[1], 1))\n",
        "y_gen = np.reshape(y_gen, (y_gen.shape[0], y_gen.shape[1], 1))"
      ]
    },
    {
      "cell_type": "code",
      "execution_count": 56,
      "metadata": {
        "colab": {
          "base_uri": "https://localhost:8080/"
        },
        "id": "haBEf3kXMN6R",
        "outputId": "c71d2e8b-2538-42c8-df63-3b8c3a3e3e5f"
      },
      "outputs": [
        {
          "data": {
            "text/plain": [
              "(13944, 3, 1)"
            ]
          },
          "execution_count": 56,
          "metadata": {},
          "output_type": "execute_result"
        }
      ],
      "source": [
        "X.shape"
      ]
    },
    {
      "cell_type": "code",
      "execution_count": 57,
      "metadata": {
        "colab": {
          "base_uri": "https://localhost:8080/"
        },
        "id": "RpY-QrnhMN6R",
        "outputId": "adb077ea-3c8a-4fb8-8745-8180c27601eb"
      },
      "outputs": [
        {
          "data": {
            "text/plain": [
              "(13944, 4, 1)"
            ]
          },
          "execution_count": 57,
          "metadata": {},
          "output_type": "execute_result"
        }
      ],
      "source": [
        "y_gen.shape"
      ]
    },
    {
      "cell_type": "code",
      "execution_count": 58,
      "metadata": {
        "id": "R0wEidWIMN6R"
      },
      "outputs": [],
      "source": [
        "test_split = 0.2\n",
        "split_index = int(len(y) * (1-test_split))\n",
        "train_x = X[:split_index]\n",
        "# train_y = y[:split_index]\n",
        "test_x = X[(split_index + window_size - 1):]\n",
        "test_y = y[(split_index + window_size - 1):]\n",
        "\n",
        "train_y_gen = y_gen[:split_index]\n",
        "test_y_gen = y_gen[(split_index + window_size - 1):]"
      ]
    },
    {
      "cell_type": "code",
      "execution_count": 59,
      "metadata": {
        "id": "jW8tW2ckMN6R"
      },
      "outputs": [],
      "source": [
        "# indices = np.arange(len(train_y))\n",
        "# np.random.shuffle(indices)\n",
        "# train_x = train_x[indices]\n",
        "# # train_y = train_y[indices]\n",
        "# train_y_gen = train_y_gen[indices]"
      ]
    },
    {
      "cell_type": "code",
      "execution_count": 60,
      "metadata": {
        "colab": {
          "base_uri": "https://localhost:8080/"
        },
        "id": "JdUYtBq-MN6R",
        "outputId": "f93ce3ac-574c-441b-bdb0-72fbb9504941"
      },
      "outputs": [
        {
          "name": "stdout",
          "output_type": "stream",
          "text": [
            "(11155, 3, 1)\n"
          ]
        }
      ],
      "source": [
        "print(train_x.shape)\n"
      ]
    },
    {
      "cell_type": "code",
      "execution_count": 61,
      "metadata": {
        "id": "jP474eqNMN6R"
      },
      "outputs": [],
      "source": [
        "# parameters\n",
        "batch_size = 128\n",
        "learning_rate = 0.0001\n",
        "num_epochs = 10\n",
        "input_size_gen = (1, window_size)\n",
        "input_size_disc = (1, window_size+1)"
      ]
    },
    {
      "cell_type": "code",
      "execution_count": 62,
      "metadata": {
        "id": "AFSXpgSSMN6R"
      },
      "outputs": [],
      "source": [
        "def create_generator():\n",
        "    generator = tf.keras.Sequential()\n",
        "    generator.add(tf.keras.Input(shape=(window_size,1)))\n",
        "    generator.add(tf.keras.layers.GRU(1024, return_sequences=True))\n",
        "    generator.add(tf.keras.layers.GRU(512, return_sequences=True))\n",
        "    generator.add(tf.keras.layers.GRU(256))\n",
        "    generator.add(tf.keras.layers.Dense(128))\n",
        "    generator.add(tf.keras.layers.Dense(64))\n",
        "    generator.add(tf.keras.layers.Dense(1))\n",
        "    generator.add(tf.keras.layers.Reshape((1,)))\n",
        "    generator.add(tf.keras.layers.Dropout(0.2))\n",
        "\n",
        "    return generator"
      ]
    },
    {
      "cell_type": "code",
      "execution_count": 63,
      "metadata": {
        "id": "2PkM63VoMN6R"
      },
      "outputs": [],
      "source": [
        "def create_discrimanator():\n",
        "    discrimator = tf.keras.Sequential()\n",
        "    discrimator.add(tf.keras.Input(shape=(window_size + 1,1)))\n",
        "    discrimator.add(tf.keras.layers.Conv1D(32, kernel_size=3, strides=1, padding='same', activation='leaky_relu'))\n",
        "    discrimator.add(tf.keras.layers.Conv1D(64, kernel_size=3, strides=1, padding='same', activation='leaky_relu'))\n",
        "    discrimator.add(tf.keras.layers.Conv1D(128, kernel_size=3, strides=1, padding='same', activation='leaky_relu'))\n",
        "    discrimator.add(tf.keras.layers.Flatten())\n",
        "    discrimator.add(tf.keras.layers.Dense(220, activation='leaky_relu'))\n",
        "    discrimator.add(tf.keras.layers.BatchNormalization())\n",
        "    discrimator.add(tf.keras.layers.Dense(220, activation='relu'))\n",
        "    discrimator.add(tf.keras.layers.BatchNormalization())\n",
        "    discrimator.add(tf.keras.layers.Dense(1, activation='sigmoid'))\n",
        "\n",
        "    discrimator.compile(optimizer=tf.keras.optimizers.Adam(), loss='binary_crossentropy', metrics=['accuracy'])\n",
        "\n",
        "    return discrimator"
      ]
    },
    {
      "cell_type": "code",
      "execution_count": 64,
      "metadata": {
        "id": "g-Kc9fj5MN6R"
      },
      "outputs": [],
      "source": [
        "generator = create_generator()\n",
        "discriminator = create_discrimanator()"
      ]
    },
    {
      "cell_type": "code",
      "execution_count": 65,
      "metadata": {
        "colab": {
          "base_uri": "https://localhost:8080/"
        },
        "id": "NWyiqd8WVk_o",
        "outputId": "55aa7b21-e3b4-4093-d585-546aa668d9e6"
      },
      "outputs": [
        {
          "data": {
            "text/plain": [
              "(3, 1)"
            ]
          },
          "execution_count": 65,
          "metadata": {},
          "output_type": "execute_result"
        }
      ],
      "source": [
        "train_x[0].shape"
      ]
    },
    {
      "cell_type": "code",
      "execution_count": 66,
      "metadata": {
        "colab": {
          "base_uri": "https://localhost:8080/"
        },
        "id": "JDUeFdI2MN6R",
        "outputId": "c5ce8073-463e-4e0b-f903-1650a57ec0f7"
      },
      "outputs": [
        {
          "name": "stdout",
          "output_type": "stream",
          "text": [
            "Model: \"sequential_3\"\n",
            "_________________________________________________________________\n",
            " Layer (type)                Output Shape              Param #   \n",
            "=================================================================\n",
            " conv1d_3 (Conv1D)           (None, 4, 32)             128       \n",
            "                                                                 \n",
            " conv1d_4 (Conv1D)           (None, 4, 64)             6208      \n",
            "                                                                 \n",
            " conv1d_5 (Conv1D)           (None, 4, 128)            24704     \n",
            "                                                                 \n",
            " flatten_1 (Flatten)         (None, 512)               0         \n",
            "                                                                 \n",
            " dense_9 (Dense)             (None, 220)               112860    \n",
            "                                                                 \n",
            " batch_normalization_2 (Bat  (None, 220)               880       \n",
            " chNormalization)                                                \n",
            "                                                                 \n",
            " dense_10 (Dense)            (None, 220)               48620     \n",
            "                                                                 \n",
            " batch_normalization_3 (Bat  (None, 220)               880       \n",
            " chNormalization)                                                \n",
            "                                                                 \n",
            " dense_11 (Dense)            (None, 1)                 221       \n",
            "                                                                 \n",
            "=================================================================\n",
            "Total params: 194501 (759.77 KB)\n",
            "Trainable params: 193621 (756.33 KB)\n",
            "Non-trainable params: 880 (3.44 KB)\n",
            "_________________________________________________________________\n"
          ]
        }
      ],
      "source": [
        "generated_sample = generator(train_x[:1], training=False)\n",
        "# fake_data = tf.concat([train_x[0], generated_sample], 1)\n",
        "train_y_gen[:1].shape\n",
        "discriminator(train_y_gen[:1])\n",
        "discriminator.summary()"
      ]
    },
    {
      "cell_type": "code",
      "execution_count": 67,
      "metadata": {
        "id": "EdatzZXKMN6R"
      },
      "outputs": [],
      "source": [
        "cross_entropy = tf.keras.losses.BinaryCrossentropy(from_logits=True)\n",
        "\n",
        "def discriminator_loss(real_output, fake_output):\n",
        "    real_loss = cross_entropy(tf.ones_like(real_output), real_output)\n",
        "    fake_loss = cross_entropy(tf.zeros_like(fake_output), fake_output)\n",
        "    total_loss = real_loss + fake_loss\n",
        "    return total_loss"
      ]
    },
    {
      "cell_type": "code",
      "execution_count": 68,
      "metadata": {
        "id": "4acdS_TdMN6R"
      },
      "outputs": [],
      "source": [
        "def generator_loss(fake_output):\n",
        "    return cross_entropy(tf.ones_like(fake_output), fake_output)"
      ]
    },
    {
      "cell_type": "code",
      "execution_count": 69,
      "metadata": {
        "id": "WrGFiI1_MN6R"
      },
      "outputs": [],
      "source": [
        "generator_optimizer = tf.keras.optimizers.Adam(learning_rate=0.0001, beta_1=0.0, beta_2=0.9)\n",
        "discriminator_optimizer = tf.keras.optimizers.Adam(learning_rate=0.0001, beta_1=0.0, beta_2=0.9)"
      ]
    },
    {
      "cell_type": "code",
      "execution_count": 70,
      "metadata": {
        "id": "cOzj25AvMN6R"
      },
      "outputs": [],
      "source": [
        "def train_step(x_real, y_real):\n",
        "    with tf.GradientTape() as gen_tape, tf.GradientTape() as disc_tape:\n",
        "        y_fake = generator(x_real)\n",
        "        # fake_data = tf.concat([train_x[0], y_fake], 1)\n",
        "        fake_data = tf.concat([y_real[:, :window_size, :], tf.reshape(y_fake, (-1, 1, 1))], axis=1)\n",
        "        real_output = discriminator(y_real)\n",
        "        fake_output = discriminator(fake_data)\n",
        "        gen_loss = generator_loss(fake_output)\n",
        "        disc_loss = discriminator_loss(real_output, fake_output)\n",
        "\n",
        "        generator_gradients = gen_tape.gradient(gen_loss, generator.trainable_variables)\n",
        "        discriminator_gradients = disc_tape.gradient(disc_loss, discriminator.trainable_variables)\n",
        "\n",
        "        generator_optimizer.apply_gradients(zip(generator_gradients, generator.trainable_variables))\n",
        "        discriminator_optimizer.apply_gradients(zip(discriminator_gradients, discriminator.trainable_variables))\n",
        "\n",
        "        return gen_loss, disc_loss"
      ]
    },
    {
      "cell_type": "code",
      "execution_count": 71,
      "metadata": {
        "id": "tKhTbjrtMN6R"
      },
      "outputs": [],
      "source": [
        "def train(epochs=50):\n",
        "    num_batches = len(train_x) // batch_size\n",
        "    for epoch in range(epochs):\n",
        "        gen_loss_epoch = []\n",
        "        disc_loss_epoch = []\n",
        "        for i in range(num_batches):\n",
        "            #for x, y_gen in zip(train_x, train_y_gen):\n",
        "            start_idx = i * batch_size\n",
        "            end_idx = start_idx + batch_size\n",
        "            x_batch = train_x[start_idx:end_idx]\n",
        "            y_gen_batch = train_y_gen[start_idx:end_idx]\n",
        "            gen_loss, disc_loss = train_step(x_batch, y_gen_batch)\n",
        "            # print(\"gen_loss \", gen_loss.numpy())\n",
        "            # print(\"disc_loss \", disc_loss.numpy())\n",
        "            gen_loss_epoch.append(gen_loss.numpy())\n",
        "            disc_loss_epoch.append(disc_loss.numpy())\n",
        "\n",
        "        print(f'[{epoch+1}/{epochs}] LossD: {np.mean(disc_loss_epoch)} LossG:{np.mean(gen_loss_epoch)}')\n",
        "\n",
        "    return gen_loss_epoch, disc_loss_epoch"
      ]
    },
    {
      "cell_type": "code",
      "execution_count": 72,
      "metadata": {
        "colab": {
          "base_uri": "https://localhost:8080/",
          "height": 1000
        },
        "id": "aVJimPYHMN6R",
        "outputId": "886ad605-42d2-437e-e9d6-cef3a0914625"
      },
      "outputs": [
        {
          "name": "stderr",
          "output_type": "stream",
          "text": [
            "/home/rol3ert99/.local/lib/python3.10/site-packages/keras/src/backend.py:5818: UserWarning: \"`binary_crossentropy` received `from_logits=True`, but the `output` argument was produced by a Sigmoid activation and thus does not represent logits. Was this intended?\n",
            "  output, from_logits = _get_logits(\n"
          ]
        },
        {
          "name": "stdout",
          "output_type": "stream",
          "text": [
            "[1/50] LossD: 1.3851267099380493 LossG:0.6937373280525208\n",
            "[2/50] LossD: 1.3856885433197021 LossG:0.6937329769134521\n",
            "[3/50] LossD: 1.3851556777954102 LossG:0.6939423680305481\n",
            "[4/50] LossD: 1.384395956993103 LossG:0.6942963004112244\n",
            "[5/50] LossD: 1.3832519054412842 LossG:0.6947305798530579\n",
            "[6/50] LossD: 1.3820178508758545 LossG:0.6954219341278076\n",
            "[7/50] LossD: 1.3797986507415771 LossG:0.6966336369514465\n",
            "[8/50] LossD: 1.377281904220581 LossG:0.6982082724571228\n",
            "[9/50] LossD: 1.3732637166976929 LossG:0.7003605961799622\n",
            "[10/50] LossD: 1.3690805435180664 LossG:0.7027806639671326\n",
            "[11/50] LossD: 1.364982008934021 LossG:0.7059426307678223\n",
            "[12/50] LossD: 1.359756588935852 LossG:0.7088444232940674\n",
            "[13/50] LossD: 1.3536458015441895 LossG:0.7127736210823059\n",
            "[14/50] LossD: 1.3483569622039795 LossG:0.7180461883544922\n",
            "[15/50] LossD: 1.340531826019287 LossG:0.7225720882415771\n",
            "[16/50] LossD: 1.337764859199524 LossG:0.7247328162193298\n",
            "[17/50] LossD: 1.3350118398666382 LossG:0.7270289659500122\n",
            "[18/50] LossD: 1.3285194635391235 LossG:0.7335026860237122\n",
            "[19/50] LossD: 1.3183660507202148 LossG:0.7530747056007385\n",
            "[20/50] LossD: 1.3143579959869385 LossG:0.754374623298645\n",
            "[21/50] LossD: 1.3005485534667969 LossG:0.758599579334259\n",
            "[22/50] LossD: 1.3254483938217163 LossG:0.7509787678718567\n",
            "[23/50] LossD: 1.290026307106018 LossG:0.7751818299293518\n",
            "[24/50] LossD: 1.283258318901062 LossG:0.7802734971046448\n",
            "[25/50] LossD: 1.300764560699463 LossG:0.7922471165657043\n",
            "[26/50] LossD: 1.2953017950057983 LossG:0.7934494614601135\n",
            "[27/50] LossD: 1.2778176069259644 LossG:0.7988802790641785\n",
            "[28/50] LossD: 1.2759270668029785 LossG:0.8085516691207886\n",
            "[29/50] LossD: 1.2517205476760864 LossG:0.8181625008583069\n",
            "[30/50] LossD: 1.2651324272155762 LossG:0.8508353233337402\n",
            "[31/50] LossD: 1.2972067594528198 LossG:0.8146446347236633\n",
            "[32/50] LossD: 1.310915470123291 LossG:0.8282243609428406\n",
            "[33/50] LossD: 1.2906842231750488 LossG:0.8171672821044922\n",
            "[34/50] LossD: 1.270246982574463 LossG:0.8255309462547302\n",
            "[35/50] LossD: 1.2990362644195557 LossG:0.8191666603088379\n",
            "[36/50] LossD: 1.282230257987976 LossG:0.838338315486908\n",
            "[37/50] LossD: 1.248146891593933 LossG:0.8643806576728821\n",
            "[38/50] LossD: 1.2195043563842773 LossG:0.8849015235900879\n",
            "[39/50] LossD: 1.3173199892044067 LossG:0.8214682936668396\n",
            "[40/50] LossD: 1.287906527519226 LossG:0.886080801486969\n",
            "[41/50] LossD: 1.2749747037887573 LossG:0.8773484230041504\n",
            "[42/50] LossD: 1.267385721206665 LossG:0.8763401508331299\n",
            "[43/50] LossD: 1.2271699905395508 LossG:0.8912704586982727\n",
            "[44/50] LossD: 1.1950862407684326 LossG:0.9094166159629822\n",
            "[45/50] LossD: 1.2139476537704468 LossG:0.9348992705345154\n",
            "[46/50] LossD: 1.2555574178695679 LossG:0.9402785897254944\n",
            "[47/50] LossD: 1.2618249654769897 LossG:0.9473106861114502\n",
            "[48/50] LossD: 1.3046234846115112 LossG:0.8870905637741089\n",
            "[49/50] LossD: 1.3031777143478394 LossG:0.9330368638038635\n",
            "[50/50] LossD: 1.2799538373947144 LossG:0.9242466688156128\n"
          ]
        }
      ],
      "source": [
        "gen_loss_epoch, disc_loss_epoch = train()"
      ]
    },
    {
      "cell_type": "code",
      "execution_count": 80,
      "metadata": {
        "id": "GU6iSJM-WDBm"
      },
      "outputs": [
        {
          "data": {
            "image/png": "[encoded data removed]",
            "text/plain": [
              "<Figure size 1000x500 with 1 Axes>"
            ]
          },
          "metadata": {},
          "output_type": "display_data"
        }
      ],
      "source": [
        "import matplotlib.pyplot as plt \n",
        "\n",
        "plt.figure(figsize=(10,5))\n",
        "plt.plot(gen_loss_epoch, label='generator loss')\n",
        "plt.plot(disc_loss_epoch, label='dicriminator loss')\n",
        "plt.legend()\n",
        "plt.show()"
      ]
    }
  ],
  "metadata": {
    "colab": {
      "provenance": []
    },
    "kernelspec": {
      "display_name": "Python 3",
      "language": "python",
      "name": "python3"
    },
    "language_info": {
      "codemirror_mode": {
        "name": "ipython",
        "version": 3
      },
      "file_extension": ".py",
      "mimetype": "text/x-python",
      "name": "python",
      "nbconvert_exporter": "python",
      "pygments_lexer": "ipython3",
      "version": "3.10.12"
    }
  },
  "nbformat": 4,
  "nbformat_minor": 0
}
