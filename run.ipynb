{
 "cells": [
  {
   "cell_type": "code",
   "execution_count": 19,
   "metadata": {},
   "outputs": [
    {
     "data": {
      "text/html": [
       "<div>\n",
       "<style scoped>\n",
       "    .dataframe tbody tr th:only-of-type {\n",
       "        vertical-align: middle;\n",
       "    }\n",
       "\n",
       "    .dataframe tbody tr th {\n",
       "        vertical-align: top;\n",
       "    }\n",
       "\n",
       "    .dataframe thead th {\n",
       "        text-align: right;\n",
       "    }\n",
       "</style>\n",
       "<table border=\"1\" class=\"dataframe\">\n",
       "  <thead>\n",
       "    <tr style=\"text-align: right;\">\n",
       "      <th></th>\n",
       "      <th>Index</th>\n",
       "      <th>Date</th>\n",
       "      <th>Open</th>\n",
       "      <th>High</th>\n",
       "      <th>Low</th>\n",
       "      <th>Close</th>\n",
       "      <th>Adj Close</th>\n",
       "      <th>Volume</th>\n",
       "    </tr>\n",
       "  </thead>\n",
       "  <tbody>\n",
       "    <tr>\n",
       "      <th>0</th>\n",
       "      <td>NYA</td>\n",
       "      <td>1965-12-31</td>\n",
       "      <td>528.690002</td>\n",
       "      <td>528.690002</td>\n",
       "      <td>528.690002</td>\n",
       "      <td>528.690002</td>\n",
       "      <td>528.690002</td>\n",
       "      <td>0.0</td>\n",
       "    </tr>\n",
       "    <tr>\n",
       "      <th>1</th>\n",
       "      <td>NYA</td>\n",
       "      <td>1966-01-03</td>\n",
       "      <td>527.210022</td>\n",
       "      <td>527.210022</td>\n",
       "      <td>527.210022</td>\n",
       "      <td>527.210022</td>\n",
       "      <td>527.210022</td>\n",
       "      <td>0.0</td>\n",
       "    </tr>\n",
       "    <tr>\n",
       "      <th>2</th>\n",
       "      <td>NYA</td>\n",
       "      <td>1966-01-04</td>\n",
       "      <td>527.840027</td>\n",
       "      <td>527.840027</td>\n",
       "      <td>527.840027</td>\n",
       "      <td>527.840027</td>\n",
       "      <td>527.840027</td>\n",
       "      <td>0.0</td>\n",
       "    </tr>\n",
       "    <tr>\n",
       "      <th>3</th>\n",
       "      <td>NYA</td>\n",
       "      <td>1966-01-05</td>\n",
       "      <td>531.119995</td>\n",
       "      <td>531.119995</td>\n",
       "      <td>531.119995</td>\n",
       "      <td>531.119995</td>\n",
       "      <td>531.119995</td>\n",
       "      <td>0.0</td>\n",
       "    </tr>\n",
       "    <tr>\n",
       "      <th>4</th>\n",
       "      <td>NYA</td>\n",
       "      <td>1966-01-06</td>\n",
       "      <td>532.070007</td>\n",
       "      <td>532.070007</td>\n",
       "      <td>532.070007</td>\n",
       "      <td>532.070007</td>\n",
       "      <td>532.070007</td>\n",
       "      <td>0.0</td>\n",
       "    </tr>\n",
       "    <tr>\n",
       "      <th>...</th>\n",
       "      <td>...</td>\n",
       "      <td>...</td>\n",
       "      <td>...</td>\n",
       "      <td>...</td>\n",
       "      <td>...</td>\n",
       "      <td>...</td>\n",
       "      <td>...</td>\n",
       "      <td>...</td>\n",
       "    </tr>\n",
       "    <tr>\n",
       "      <th>112452</th>\n",
       "      <td>N100</td>\n",
       "      <td>2021-05-27</td>\n",
       "      <td>1241.119995</td>\n",
       "      <td>1251.910034</td>\n",
       "      <td>1241.119995</td>\n",
       "      <td>1247.069946</td>\n",
       "      <td>1247.069946</td>\n",
       "      <td>379696400.0</td>\n",
       "    </tr>\n",
       "    <tr>\n",
       "      <th>112453</th>\n",
       "      <td>N100</td>\n",
       "      <td>2021-05-28</td>\n",
       "      <td>1249.469971</td>\n",
       "      <td>1259.209961</td>\n",
       "      <td>1249.030029</td>\n",
       "      <td>1256.599976</td>\n",
       "      <td>1256.599976</td>\n",
       "      <td>160773400.0</td>\n",
       "    </tr>\n",
       "    <tr>\n",
       "      <th>112454</th>\n",
       "      <td>N100</td>\n",
       "      <td>2021-05-31</td>\n",
       "      <td>1256.079956</td>\n",
       "      <td>1258.880005</td>\n",
       "      <td>1248.140015</td>\n",
       "      <td>1248.930054</td>\n",
       "      <td>1248.930054</td>\n",
       "      <td>91173700.0</td>\n",
       "    </tr>\n",
       "    <tr>\n",
       "      <th>112455</th>\n",
       "      <td>N100</td>\n",
       "      <td>2021-06-01</td>\n",
       "      <td>1254.609985</td>\n",
       "      <td>1265.660034</td>\n",
       "      <td>1254.609985</td>\n",
       "      <td>1258.579956</td>\n",
       "      <td>1258.579956</td>\n",
       "      <td>155179900.0</td>\n",
       "    </tr>\n",
       "    <tr>\n",
       "      <th>112456</th>\n",
       "      <td>N100</td>\n",
       "      <td>2021-06-02</td>\n",
       "      <td>1258.489990</td>\n",
       "      <td>1263.709961</td>\n",
       "      <td>1258.239990</td>\n",
       "      <td>1263.619995</td>\n",
       "      <td>1263.619995</td>\n",
       "      <td>148465000.0</td>\n",
       "    </tr>\n",
       "  </tbody>\n",
       "</table>\n",
       "<p>112457 rows × 8 columns</p>\n",
       "</div>"
      ],
      "text/plain": [
       "       Index        Date         Open         High          Low        Close  \\\n",
       "0        NYA  1965-12-31   528.690002   528.690002   528.690002   528.690002   \n",
       "1        NYA  1966-01-03   527.210022   527.210022   527.210022   527.210022   \n",
       "2        NYA  1966-01-04   527.840027   527.840027   527.840027   527.840027   \n",
       "3        NYA  1966-01-05   531.119995   531.119995   531.119995   531.119995   \n",
       "4        NYA  1966-01-06   532.070007   532.070007   532.070007   532.070007   \n",
       "...      ...         ...          ...          ...          ...          ...   \n",
       "112452  N100  2021-05-27  1241.119995  1251.910034  1241.119995  1247.069946   \n",
       "112453  N100  2021-05-28  1249.469971  1259.209961  1249.030029  1256.599976   \n",
       "112454  N100  2021-05-31  1256.079956  1258.880005  1248.140015  1248.930054   \n",
       "112455  N100  2021-06-01  1254.609985  1265.660034  1254.609985  1258.579956   \n",
       "112456  N100  2021-06-02  1258.489990  1263.709961  1258.239990  1263.619995   \n",
       "\n",
       "          Adj Close       Volume  \n",
       "0        528.690002          0.0  \n",
       "1        527.210022          0.0  \n",
       "2        527.840027          0.0  \n",
       "3        531.119995          0.0  \n",
       "4        532.070007          0.0  \n",
       "...             ...          ...  \n",
       "112452  1247.069946  379696400.0  \n",
       "112453  1256.599976  160773400.0  \n",
       "112454  1248.930054   91173700.0  \n",
       "112455  1258.579956  155179900.0  \n",
       "112456  1263.619995  148465000.0  \n",
       "\n",
       "[112457 rows x 8 columns]"
      ]
     },
     "execution_count": 19,
     "metadata": {},
     "output_type": "execute_result"
    }
   ],
   "source": [
    "import pandas as pd\n",
    "import numpy as np\n",
    "import tensorflow as tf\n",
    "from sklearn.preprocessing import MinMaxScaler\n",
    "from sklearn.model_selection import train_test_split\n",
    "\n",
    "stock_df = pd.read_csv('indexData.csv')\n",
    "stock_df"
   ]
  },
  {
   "cell_type": "markdown",
   "metadata": {},
   "source": [
    "### Data preprocessing"
   ]
  },
  {
   "cell_type": "code",
   "execution_count": 20,
   "metadata": {},
   "outputs": [
    {
     "data": {
      "text/html": [
       "<div>\n",
       "<style scoped>\n",
       "    .dataframe tbody tr th:only-of-type {\n",
       "        vertical-align: middle;\n",
       "    }\n",
       "\n",
       "    .dataframe tbody tr th {\n",
       "        vertical-align: top;\n",
       "    }\n",
       "\n",
       "    .dataframe thead th {\n",
       "        text-align: right;\n",
       "    }\n",
       "</style>\n",
       "<table border=\"1\" class=\"dataframe\">\n",
       "  <thead>\n",
       "    <tr style=\"text-align: right;\">\n",
       "      <th></th>\n",
       "      <th>Index</th>\n",
       "      <th>Date</th>\n",
       "      <th>Open</th>\n",
       "      <th>High</th>\n",
       "      <th>Low</th>\n",
       "      <th>Close</th>\n",
       "      <th>Adj Close</th>\n",
       "      <th>Volume</th>\n",
       "    </tr>\n",
       "  </thead>\n",
       "  <tbody>\n",
       "    <tr>\n",
       "      <th>0</th>\n",
       "      <td>NYA</td>\n",
       "      <td>1965-12-31</td>\n",
       "      <td>528.690002</td>\n",
       "      <td>528.690002</td>\n",
       "      <td>528.690002</td>\n",
       "      <td>528.690002</td>\n",
       "      <td>528.690002</td>\n",
       "      <td>0.000000e+00</td>\n",
       "    </tr>\n",
       "    <tr>\n",
       "      <th>1</th>\n",
       "      <td>NYA</td>\n",
       "      <td>1966-01-03</td>\n",
       "      <td>527.210022</td>\n",
       "      <td>527.210022</td>\n",
       "      <td>527.210022</td>\n",
       "      <td>527.210022</td>\n",
       "      <td>527.210022</td>\n",
       "      <td>0.000000e+00</td>\n",
       "    </tr>\n",
       "    <tr>\n",
       "      <th>2</th>\n",
       "      <td>NYA</td>\n",
       "      <td>1966-01-04</td>\n",
       "      <td>527.840027</td>\n",
       "      <td>527.840027</td>\n",
       "      <td>527.840027</td>\n",
       "      <td>527.840027</td>\n",
       "      <td>527.840027</td>\n",
       "      <td>0.000000e+00</td>\n",
       "    </tr>\n",
       "    <tr>\n",
       "      <th>3</th>\n",
       "      <td>NYA</td>\n",
       "      <td>1966-01-05</td>\n",
       "      <td>531.119995</td>\n",
       "      <td>531.119995</td>\n",
       "      <td>531.119995</td>\n",
       "      <td>531.119995</td>\n",
       "      <td>531.119995</td>\n",
       "      <td>0.000000e+00</td>\n",
       "    </tr>\n",
       "    <tr>\n",
       "      <th>4</th>\n",
       "      <td>NYA</td>\n",
       "      <td>1966-01-06</td>\n",
       "      <td>532.070007</td>\n",
       "      <td>532.070007</td>\n",
       "      <td>532.070007</td>\n",
       "      <td>532.070007</td>\n",
       "      <td>532.070007</td>\n",
       "      <td>0.000000e+00</td>\n",
       "    </tr>\n",
       "    <tr>\n",
       "      <th>...</th>\n",
       "      <td>...</td>\n",
       "      <td>...</td>\n",
       "      <td>...</td>\n",
       "      <td>...</td>\n",
       "      <td>...</td>\n",
       "      <td>...</td>\n",
       "      <td>...</td>\n",
       "      <td>...</td>\n",
       "    </tr>\n",
       "    <tr>\n",
       "      <th>13943</th>\n",
       "      <td>NYA</td>\n",
       "      <td>2021-05-24</td>\n",
       "      <td>16375.000000</td>\n",
       "      <td>16508.519530</td>\n",
       "      <td>16375.000000</td>\n",
       "      <td>16464.689450</td>\n",
       "      <td>16464.689450</td>\n",
       "      <td>2.947400e+09</td>\n",
       "    </tr>\n",
       "    <tr>\n",
       "      <th>13944</th>\n",
       "      <td>NYA</td>\n",
       "      <td>2021-05-25</td>\n",
       "      <td>16464.689450</td>\n",
       "      <td>16525.810550</td>\n",
       "      <td>16375.150390</td>\n",
       "      <td>16390.189450</td>\n",
       "      <td>16390.189450</td>\n",
       "      <td>3.420870e+09</td>\n",
       "    </tr>\n",
       "    <tr>\n",
       "      <th>13945</th>\n",
       "      <td>NYA</td>\n",
       "      <td>2021-05-26</td>\n",
       "      <td>16390.189450</td>\n",
       "      <td>16466.339840</td>\n",
       "      <td>16388.320310</td>\n",
       "      <td>16451.960940</td>\n",
       "      <td>16451.960940</td>\n",
       "      <td>3.674490e+09</td>\n",
       "    </tr>\n",
       "    <tr>\n",
       "      <th>13946</th>\n",
       "      <td>NYA</td>\n",
       "      <td>2021-05-27</td>\n",
       "      <td>16451.960940</td>\n",
       "      <td>16546.359380</td>\n",
       "      <td>16451.960940</td>\n",
       "      <td>16531.949220</td>\n",
       "      <td>16531.949220</td>\n",
       "      <td>5.201110e+09</td>\n",
       "    </tr>\n",
       "    <tr>\n",
       "      <th>13947</th>\n",
       "      <td>NYA</td>\n",
       "      <td>2021-05-28</td>\n",
       "      <td>16531.949220</td>\n",
       "      <td>16588.689450</td>\n",
       "      <td>16531.949220</td>\n",
       "      <td>16555.660160</td>\n",
       "      <td>16555.660160</td>\n",
       "      <td>4.199270e+09</td>\n",
       "    </tr>\n",
       "  </tbody>\n",
       "</table>\n",
       "<p>13948 rows × 8 columns</p>\n",
       "</div>"
      ],
      "text/plain": [
       "      Index        Date          Open          High           Low  \\\n",
       "0       NYA  1965-12-31    528.690002    528.690002    528.690002   \n",
       "1       NYA  1966-01-03    527.210022    527.210022    527.210022   \n",
       "2       NYA  1966-01-04    527.840027    527.840027    527.840027   \n",
       "3       NYA  1966-01-05    531.119995    531.119995    531.119995   \n",
       "4       NYA  1966-01-06    532.070007    532.070007    532.070007   \n",
       "...     ...         ...           ...           ...           ...   \n",
       "13943   NYA  2021-05-24  16375.000000  16508.519530  16375.000000   \n",
       "13944   NYA  2021-05-25  16464.689450  16525.810550  16375.150390   \n",
       "13945   NYA  2021-05-26  16390.189450  16466.339840  16388.320310   \n",
       "13946   NYA  2021-05-27  16451.960940  16546.359380  16451.960940   \n",
       "13947   NYA  2021-05-28  16531.949220  16588.689450  16531.949220   \n",
       "\n",
       "              Close     Adj Close        Volume  \n",
       "0        528.690002    528.690002  0.000000e+00  \n",
       "1        527.210022    527.210022  0.000000e+00  \n",
       "2        527.840027    527.840027  0.000000e+00  \n",
       "3        531.119995    531.119995  0.000000e+00  \n",
       "4        532.070007    532.070007  0.000000e+00  \n",
       "...             ...           ...           ...  \n",
       "13943  16464.689450  16464.689450  2.947400e+09  \n",
       "13944  16390.189450  16390.189450  3.420870e+09  \n",
       "13945  16451.960940  16451.960940  3.674490e+09  \n",
       "13946  16531.949220  16531.949220  5.201110e+09  \n",
       "13947  16555.660160  16555.660160  4.199270e+09  \n",
       "\n",
       "[13948 rows x 8 columns]"
      ]
     },
     "execution_count": 20,
     "metadata": {},
     "output_type": "execute_result"
    }
   ],
   "source": [
    "stock_NYA_df = stock_df[stock_df['Index'] == 'NYA']\n",
    "stock_NYA_df"
   ]
  },
  {
   "cell_type": "code",
   "execution_count": 21,
   "metadata": {},
   "outputs": [
    {
     "name": "stdout",
     "output_type": "stream",
     "text": [
      "<class 'pandas.core.frame.DataFrame'>\n",
      "Index: 13948 entries, 0 to 13947\n",
      "Data columns (total 8 columns):\n",
      " #   Column     Non-Null Count  Dtype  \n",
      "---  ------     --------------  -----  \n",
      " 0   Index      13948 non-null  object \n",
      " 1   Date       13948 non-null  object \n",
      " 2   Open       13947 non-null  float64\n",
      " 3   High       13947 non-null  float64\n",
      " 4   Low        13947 non-null  float64\n",
      " 5   Close      13947 non-null  float64\n",
      " 6   Adj Close  13947 non-null  float64\n",
      " 7   Volume     13947 non-null  float64\n",
      "dtypes: float64(6), object(2)\n",
      "memory usage: 980.7+ KB\n"
     ]
    }
   ],
   "source": [
    "stock_NYA_df.info()"
   ]
  },
  {
   "cell_type": "code",
   "execution_count": 22,
   "metadata": {},
   "outputs": [
    {
     "name": "stdout",
     "output_type": "stream",
     "text": [
      "<class 'pandas.core.frame.DataFrame'>\n",
      "Index: 13947 entries, 0 to 13947\n",
      "Data columns (total 8 columns):\n",
      " #   Column     Non-Null Count  Dtype  \n",
      "---  ------     --------------  -----  \n",
      " 0   Index      13947 non-null  object \n",
      " 1   Date       13947 non-null  object \n",
      " 2   Open       13947 non-null  float64\n",
      " 3   High       13947 non-null  float64\n",
      " 4   Low        13947 non-null  float64\n",
      " 5   Close      13947 non-null  float64\n",
      " 6   Adj Close  13947 non-null  float64\n",
      " 7   Volume     13947 non-null  float64\n",
      "dtypes: float64(6), object(2)\n",
      "memory usage: 980.6+ KB\n"
     ]
    }
   ],
   "source": [
    "stock_NYA_df = stock_NYA_df.dropna()\n",
    "stock_NYA_df.info()"
   ]
  },
  {
   "cell_type": "code",
   "execution_count": 23,
   "metadata": {},
   "outputs": [
    {
     "name": "stdout",
     "output_type": "stream",
     "text": [
      "<class 'pandas.core.frame.DataFrame'>\n",
      "Index: 13947 entries, 0 to 13947\n",
      "Data columns (total 8 columns):\n",
      " #   Column     Non-Null Count  Dtype         \n",
      "---  ------     --------------  -----         \n",
      " 0   Index      13947 non-null  object        \n",
      " 1   Date       13947 non-null  datetime64[ns]\n",
      " 2   Open       13947 non-null  float64       \n",
      " 3   High       13947 non-null  float64       \n",
      " 4   Low        13947 non-null  float64       \n",
      " 5   Close      13947 non-null  float64       \n",
      " 6   Adj Close  13947 non-null  float64       \n",
      " 7   Volume     13947 non-null  float64       \n",
      "dtypes: datetime64[ns](1), float64(6), object(1)\n",
      "memory usage: 980.6+ KB\n"
     ]
    },
    {
     "name": "stderr",
     "output_type": "stream",
     "text": [
      "/tmp/ipykernel_19509/3815177697.py:1: SettingWithCopyWarning: \n",
      "A value is trying to be set on a copy of a slice from a DataFrame.\n",
      "Try using .loc[row_indexer,col_indexer] = value instead\n",
      "\n",
      "See the caveats in the documentation: https://pandas.pydata.org/pandas-docs/stable/user_guide/indexing.html#returning-a-view-versus-a-copy\n",
      "  stock_NYA_df['Date'] = pd.to_datetime(stock_NYA_df['Date'])\n"
     ]
    }
   ],
   "source": [
    "stock_NYA_df['Date'] = pd.to_datetime(stock_NYA_df['Date'])\n",
    "stock_NYA_df.info()"
   ]
  },
  {
   "cell_type": "code",
   "execution_count": 24,
   "metadata": {},
   "outputs": [
    {
     "name": "stderr",
     "output_type": "stream",
     "text": [
      "/tmp/ipykernel_19509/761583660.py:1: SettingWithCopyWarning: \n",
      "A value is trying to be set on a copy of a slice from a DataFrame.\n",
      "Try using .loc[row_indexer,col_indexer] = value instead\n",
      "\n",
      "See the caveats in the documentation: https://pandas.pydata.org/pandas-docs/stable/user_guide/indexing.html#returning-a-view-versus-a-copy\n",
      "  stock_NYA_df['day_difference'] = stock_NYA_df['Date'].diff().dt.days\n"
     ]
    },
    {
     "data": {
      "text/html": [
       "<div>\n",
       "<style scoped>\n",
       "    .dataframe tbody tr th:only-of-type {\n",
       "        vertical-align: middle;\n",
       "    }\n",
       "\n",
       "    .dataframe tbody tr th {\n",
       "        vertical-align: top;\n",
       "    }\n",
       "\n",
       "    .dataframe thead th {\n",
       "        text-align: right;\n",
       "    }\n",
       "</style>\n",
       "<table border=\"1\" class=\"dataframe\">\n",
       "  <thead>\n",
       "    <tr style=\"text-align: right;\">\n",
       "      <th></th>\n",
       "      <th>Index</th>\n",
       "      <th>Date</th>\n",
       "      <th>Open</th>\n",
       "      <th>High</th>\n",
       "      <th>Low</th>\n",
       "      <th>Close</th>\n",
       "      <th>Adj Close</th>\n",
       "      <th>Volume</th>\n",
       "      <th>day_difference</th>\n",
       "    </tr>\n",
       "  </thead>\n",
       "  <tbody>\n",
       "    <tr>\n",
       "      <th>0</th>\n",
       "      <td>NYA</td>\n",
       "      <td>1965-12-31</td>\n",
       "      <td>528.690002</td>\n",
       "      <td>528.690002</td>\n",
       "      <td>528.690002</td>\n",
       "      <td>528.690002</td>\n",
       "      <td>528.690002</td>\n",
       "      <td>0.000000e+00</td>\n",
       "      <td>NaN</td>\n",
       "    </tr>\n",
       "    <tr>\n",
       "      <th>1</th>\n",
       "      <td>NYA</td>\n",
       "      <td>1966-01-03</td>\n",
       "      <td>527.210022</td>\n",
       "      <td>527.210022</td>\n",
       "      <td>527.210022</td>\n",
       "      <td>527.210022</td>\n",
       "      <td>527.210022</td>\n",
       "      <td>0.000000e+00</td>\n",
       "      <td>3.0</td>\n",
       "    </tr>\n",
       "    <tr>\n",
       "      <th>2</th>\n",
       "      <td>NYA</td>\n",
       "      <td>1966-01-04</td>\n",
       "      <td>527.840027</td>\n",
       "      <td>527.840027</td>\n",
       "      <td>527.840027</td>\n",
       "      <td>527.840027</td>\n",
       "      <td>527.840027</td>\n",
       "      <td>0.000000e+00</td>\n",
       "      <td>1.0</td>\n",
       "    </tr>\n",
       "    <tr>\n",
       "      <th>3</th>\n",
       "      <td>NYA</td>\n",
       "      <td>1966-01-05</td>\n",
       "      <td>531.119995</td>\n",
       "      <td>531.119995</td>\n",
       "      <td>531.119995</td>\n",
       "      <td>531.119995</td>\n",
       "      <td>531.119995</td>\n",
       "      <td>0.000000e+00</td>\n",
       "      <td>1.0</td>\n",
       "    </tr>\n",
       "    <tr>\n",
       "      <th>4</th>\n",
       "      <td>NYA</td>\n",
       "      <td>1966-01-06</td>\n",
       "      <td>532.070007</td>\n",
       "      <td>532.070007</td>\n",
       "      <td>532.070007</td>\n",
       "      <td>532.070007</td>\n",
       "      <td>532.070007</td>\n",
       "      <td>0.000000e+00</td>\n",
       "      <td>1.0</td>\n",
       "    </tr>\n",
       "    <tr>\n",
       "      <th>...</th>\n",
       "      <td>...</td>\n",
       "      <td>...</td>\n",
       "      <td>...</td>\n",
       "      <td>...</td>\n",
       "      <td>...</td>\n",
       "      <td>...</td>\n",
       "      <td>...</td>\n",
       "      <td>...</td>\n",
       "      <td>...</td>\n",
       "    </tr>\n",
       "    <tr>\n",
       "      <th>13943</th>\n",
       "      <td>NYA</td>\n",
       "      <td>2021-05-24</td>\n",
       "      <td>16375.000000</td>\n",
       "      <td>16508.519530</td>\n",
       "      <td>16375.000000</td>\n",
       "      <td>16464.689450</td>\n",
       "      <td>16464.689450</td>\n",
       "      <td>2.947400e+09</td>\n",
       "      <td>3.0</td>\n",
       "    </tr>\n",
       "    <tr>\n",
       "      <th>13944</th>\n",
       "      <td>NYA</td>\n",
       "      <td>2021-05-25</td>\n",
       "      <td>16464.689450</td>\n",
       "      <td>16525.810550</td>\n",
       "      <td>16375.150390</td>\n",
       "      <td>16390.189450</td>\n",
       "      <td>16390.189450</td>\n",
       "      <td>3.420870e+09</td>\n",
       "      <td>1.0</td>\n",
       "    </tr>\n",
       "    <tr>\n",
       "      <th>13945</th>\n",
       "      <td>NYA</td>\n",
       "      <td>2021-05-26</td>\n",
       "      <td>16390.189450</td>\n",
       "      <td>16466.339840</td>\n",
       "      <td>16388.320310</td>\n",
       "      <td>16451.960940</td>\n",
       "      <td>16451.960940</td>\n",
       "      <td>3.674490e+09</td>\n",
       "      <td>1.0</td>\n",
       "    </tr>\n",
       "    <tr>\n",
       "      <th>13946</th>\n",
       "      <td>NYA</td>\n",
       "      <td>2021-05-27</td>\n",
       "      <td>16451.960940</td>\n",
       "      <td>16546.359380</td>\n",
       "      <td>16451.960940</td>\n",
       "      <td>16531.949220</td>\n",
       "      <td>16531.949220</td>\n",
       "      <td>5.201110e+09</td>\n",
       "      <td>1.0</td>\n",
       "    </tr>\n",
       "    <tr>\n",
       "      <th>13947</th>\n",
       "      <td>NYA</td>\n",
       "      <td>2021-05-28</td>\n",
       "      <td>16531.949220</td>\n",
       "      <td>16588.689450</td>\n",
       "      <td>16531.949220</td>\n",
       "      <td>16555.660160</td>\n",
       "      <td>16555.660160</td>\n",
       "      <td>4.199270e+09</td>\n",
       "      <td>1.0</td>\n",
       "    </tr>\n",
       "  </tbody>\n",
       "</table>\n",
       "<p>13947 rows × 9 columns</p>\n",
       "</div>"
      ],
      "text/plain": [
       "      Index       Date          Open          High           Low  \\\n",
       "0       NYA 1965-12-31    528.690002    528.690002    528.690002   \n",
       "1       NYA 1966-01-03    527.210022    527.210022    527.210022   \n",
       "2       NYA 1966-01-04    527.840027    527.840027    527.840027   \n",
       "3       NYA 1966-01-05    531.119995    531.119995    531.119995   \n",
       "4       NYA 1966-01-06    532.070007    532.070007    532.070007   \n",
       "...     ...        ...           ...           ...           ...   \n",
       "13943   NYA 2021-05-24  16375.000000  16508.519530  16375.000000   \n",
       "13944   NYA 2021-05-25  16464.689450  16525.810550  16375.150390   \n",
       "13945   NYA 2021-05-26  16390.189450  16466.339840  16388.320310   \n",
       "13946   NYA 2021-05-27  16451.960940  16546.359380  16451.960940   \n",
       "13947   NYA 2021-05-28  16531.949220  16588.689450  16531.949220   \n",
       "\n",
       "              Close     Adj Close        Volume  day_difference  \n",
       "0        528.690002    528.690002  0.000000e+00             NaN  \n",
       "1        527.210022    527.210022  0.000000e+00             3.0  \n",
       "2        527.840027    527.840027  0.000000e+00             1.0  \n",
       "3        531.119995    531.119995  0.000000e+00             1.0  \n",
       "4        532.070007    532.070007  0.000000e+00             1.0  \n",
       "...             ...           ...           ...             ...  \n",
       "13943  16464.689450  16464.689450  2.947400e+09             3.0  \n",
       "13944  16390.189450  16390.189450  3.420870e+09             1.0  \n",
       "13945  16451.960940  16451.960940  3.674490e+09             1.0  \n",
       "13946  16531.949220  16531.949220  5.201110e+09             1.0  \n",
       "13947  16555.660160  16555.660160  4.199270e+09             1.0  \n",
       "\n",
       "[13947 rows x 9 columns]"
      ]
     },
     "execution_count": 24,
     "metadata": {},
     "output_type": "execute_result"
    }
   ],
   "source": [
    "stock_NYA_df['day_difference'] = stock_NYA_df['Date'].diff().dt.days\n",
    "stock_NYA_df"
   ]
  },
  {
   "cell_type": "code",
   "execution_count": 25,
   "metadata": {},
   "outputs": [
    {
     "data": {
      "text/plain": [
       "day_difference\n",
       "1.0    10889\n",
       "3.0     2556\n",
       "4.0      332\n",
       "2.0      165\n",
       "5.0        3\n",
       "7.0        1\n",
       "Name: count, dtype: int64"
      ]
     },
     "execution_count": 25,
     "metadata": {},
     "output_type": "execute_result"
    }
   ],
   "source": [
    "stock_NYA_df['day_difference'].value_counts()"
   ]
  },
  {
   "cell_type": "code",
   "execution_count": 26,
   "metadata": {},
   "outputs": [
    {
     "data": {
      "text/plain": [
       "array([  528.690002,   527.210022,   527.840027, ..., 16451.96094 ,\n",
       "       16531.94922 , 16555.66016 ])"
      ]
     },
     "execution_count": 26,
     "metadata": {},
     "output_type": "execute_result"
    }
   ],
   "source": [
    "data = stock_NYA_df['Adj Close'].to_numpy()\n",
    "data"
   ]
  },
  {
   "cell_type": "code",
   "execution_count": 27,
   "metadata": {},
   "outputs": [
    {
     "data": {
      "text/plain": [
       "(13947,)"
      ]
     },
     "execution_count": 27,
     "metadata": {},
     "output_type": "execute_result"
    }
   ],
   "source": [
    "data.shape"
   ]
  },
  {
   "cell_type": "code",
   "execution_count": 28,
   "metadata": {},
   "outputs": [
    {
     "data": {
      "text/plain": [
       "(13947, 1)"
      ]
     },
     "execution_count": 28,
     "metadata": {},
     "output_type": "execute_result"
    }
   ],
   "source": [
    "data = np.reshape(data, (len(data), 1))\n",
    "data.shape"
   ]
  },
  {
   "cell_type": "code",
   "execution_count": 29,
   "metadata": {},
   "outputs": [
    {
     "data": {
      "text/plain": [
       "array([[  528.690002],\n",
       "       [  527.210022],\n",
       "       [  527.840027],\n",
       "       ...,\n",
       "       [16451.96094 ],\n",
       "       [16531.94922 ],\n",
       "       [16555.66016 ]])"
      ]
     },
     "execution_count": 29,
     "metadata": {},
     "output_type": "execute_result"
    }
   ],
   "source": [
    "data"
   ]
  },
  {
   "cell_type": "code",
   "execution_count": 30,
   "metadata": {},
   "outputs": [
    {
     "data": {
      "text/plain": [
       "array([[0.01113857],\n",
       "       [0.01104745],\n",
       "       [0.01108624],\n",
       "       ...,\n",
       "       [0.991475  ],\n",
       "       [0.99639958],\n",
       "       [0.99785937]])"
      ]
     },
     "execution_count": 30,
     "metadata": {},
     "output_type": "execute_result"
    }
   ],
   "source": [
    "scaler = MinMaxScaler()\n",
    "scaled_data = scaler.fit_transform(data)\n",
    "scaled_data"
   ]
  },
  {
   "cell_type": "code",
   "execution_count": 33,
   "metadata": {},
   "outputs": [
    {
     "data": {
      "text/plain": [
       "[array([0.01113857, 0.01104745, 0.01108624, 0.01128818, 0.01134666,\n",
       "        0.01137929, 0.01145748, 0.01148334, 0.01142486, 0.01149012,\n",
       "        0.01155476, 0.01167851, 0.01176962, 0.01169143, 0.0115683 ,\n",
       "        0.01158739, 0.01169143, 0.01171791, 0.01168528, 0.01167235,\n",
       "        0.0115683 , 0.01142486, 0.01116443, 0.01130788, 0.01134666,\n",
       "        0.01155476, 0.01166558, 0.01163972, 0.01182811, 0.01173699,\n",
       "        0.01173084, 0.01169821, 0.01155476, 0.0115486 , 0.01137252,\n",
       "        0.01130788, 0.0111121 , 0.01096926, 0.0107544 , 0.01084551,\n",
       "        0.0108843 , 0.01047427, 0.01016213, 0.01029203, 0.01019414,\n",
       "        0.00976503, 0.00979704, 0.01005747, 0.01006424, 0.01003838,\n",
       "        0.00967391, 0.0094652 , 0.00963451, 0.0097324 , 0.009882  ,\n",
       "        0.01012273, 0.01021384, 0.0101098 , 0.01015536, 0.01023355]),\n",
       " array([0.01104745, 0.01108624, 0.01128818, 0.01134666, 0.01137929,\n",
       "        0.01145748, 0.01148334, 0.01142486, 0.01149012, 0.01155476,\n",
       "        0.01167851, 0.01176962, 0.01169143, 0.0115683 , 0.01158739,\n",
       "        0.01169143, 0.01171791, 0.01168528, 0.01167235, 0.0115683 ,\n",
       "        0.01142486, 0.01116443, 0.01130788, 0.01134666, 0.01155476,\n",
       "        0.01166558, 0.01163972, 0.01182811, 0.01173699, 0.01173084,\n",
       "        0.01169821, 0.01155476, 0.0115486 , 0.01137252, 0.01130788,\n",
       "        0.0111121 , 0.01096926, 0.0107544 , 0.01084551, 0.0108843 ,\n",
       "        0.01047427, 0.01016213, 0.01029203, 0.01019414, 0.00976503,\n",
       "        0.00979704, 0.01005747, 0.01006424, 0.01003838, 0.00967391,\n",
       "        0.0094652 , 0.00963451, 0.0097324 , 0.009882  , 0.01012273,\n",
       "        0.01021384, 0.0101098 , 0.01015536, 0.01023355, 0.01029203])]"
      ]
     },
     "execution_count": 33,
     "metadata": {},
     "output_type": "execute_result"
    }
   ],
   "source": [
    "window_size = 60\n",
    "\n",
    "X, y = [], []\n",
    "\n",
    "for i in range(window_size, len(scaled_data)):\n",
    "    X.append(scaled_data[i-window_size:i, 0])\n",
    "    y.append(scaled_data[i, 0])\n",
    "\n",
    "X[:2]"
   ]
  },
  {
   "cell_type": "code",
   "execution_count": 35,
   "metadata": {},
   "outputs": [
    {
     "data": {
      "text/plain": [
       "array([[0.01113857, 0.01104745, 0.01108624, 0.01128818, 0.01134666,\n",
       "        0.01137929, 0.01145748, 0.01148334, 0.01142486, 0.01149012,\n",
       "        0.01155476, 0.01167851, 0.01176962, 0.01169143, 0.0115683 ,\n",
       "        0.01158739, 0.01169143, 0.01171791, 0.01168528, 0.01167235,\n",
       "        0.0115683 , 0.01142486, 0.01116443, 0.01130788, 0.01134666,\n",
       "        0.01155476, 0.01166558, 0.01163972, 0.01182811, 0.01173699,\n",
       "        0.01173084, 0.01169821, 0.01155476, 0.0115486 , 0.01137252,\n",
       "        0.01130788, 0.0111121 , 0.01096926, 0.0107544 , 0.01084551,\n",
       "        0.0108843 , 0.01047427, 0.01016213, 0.01029203, 0.01019414,\n",
       "        0.00976503, 0.00979704, 0.01005747, 0.01006424, 0.01003838,\n",
       "        0.00967391, 0.0094652 , 0.00963451, 0.0097324 , 0.009882  ,\n",
       "        0.01012273, 0.01021384, 0.0101098 , 0.01015536, 0.01023355],\n",
       "       [0.01104745, 0.01108624, 0.01128818, 0.01134666, 0.01137929,\n",
       "        0.01145748, 0.01148334, 0.01142486, 0.01149012, 0.01155476,\n",
       "        0.01167851, 0.01176962, 0.01169143, 0.0115683 , 0.01158739,\n",
       "        0.01169143, 0.01171791, 0.01168528, 0.01167235, 0.0115683 ,\n",
       "        0.01142486, 0.01116443, 0.01130788, 0.01134666, 0.01155476,\n",
       "        0.01166558, 0.01163972, 0.01182811, 0.01173699, 0.01173084,\n",
       "        0.01169821, 0.01155476, 0.0115486 , 0.01137252, 0.01130788,\n",
       "        0.0111121 , 0.01096926, 0.0107544 , 0.01084551, 0.0108843 ,\n",
       "        0.01047427, 0.01016213, 0.01029203, 0.01019414, 0.00976503,\n",
       "        0.00979704, 0.01005747, 0.01006424, 0.01003838, 0.00967391,\n",
       "        0.0094652 , 0.00963451, 0.0097324 , 0.009882  , 0.01012273,\n",
       "        0.01021384, 0.0101098 , 0.01015536, 0.01023355, 0.01029203]])"
      ]
     },
     "execution_count": 35,
     "metadata": {},
     "output_type": "execute_result"
    }
   ],
   "source": [
    "X, y = np.array(X), np.array(y)\n",
    "X[:2]"
   ]
  },
  {
   "cell_type": "code",
   "execution_count": 36,
   "metadata": {},
   "outputs": [
    {
     "data": {
      "text/plain": [
       "(13887, 60)"
      ]
     },
     "execution_count": 36,
     "metadata": {},
     "output_type": "execute_result"
    }
   ],
   "source": [
    "X.shape"
   ]
  },
  {
   "cell_type": "code",
   "execution_count": 40,
   "metadata": {},
   "outputs": [],
   "source": [
    "test_split = 0.2\n",
    "split_index = int(len(y) * (1-test_split))\n",
    "X_train = X[:split_index]\n",
    "Y_train = y[:split_index]\n",
    "X_test = X[(split_index + window_size - 1):]\n",
    "Y_test = y[(split_index + window_size - 1):]\n",
    "\n",
    "indices = np.arange(len(Y_train))\n",
    "np.random.shuffle(indices)\n",
    "X_train = X_train[indices]\n",
    "Y_train = Y_train[indices]"
   ]
  },
  {
   "cell_type": "code",
   "execution_count": 41,
   "metadata": {},
   "outputs": [
    {
     "data": {
      "text/plain": [
       "array([[0.14419314, 0.14450589, 0.14548233, 0.14468812, 0.14492885,\n",
       "        0.14455145, 0.14228582, 0.14156979, 0.14128967, 0.14220147,\n",
       "        0.14337922, 0.14548848, 0.14546941, 0.14617249, 0.14653696,\n",
       "        0.14651727, 0.1460549 , 0.14675182, 0.14559254, 0.14497441,\n",
       "        0.14361379, 0.14362057, 0.143881  , 0.14496149, 0.14747399,\n",
       "        0.14699256, 0.14572305, 0.14522806, 0.14567073, 0.14407616,\n",
       "        0.14412788, 0.14477247, 0.144597  , 0.14416727, 0.14345126,\n",
       "        0.1444862 , 0.14427809, 0.14440123, 0.14360703, 0.14283252,\n",
       "        0.14171325, 0.13893969, 0.13884857, 0.1397733 , 0.14033292,\n",
       "        0.14061922, 0.14030031, 0.13875745, 0.14003987, 0.14008543,\n",
       "        0.13993582, 0.13928506, 0.13729955, 0.13754029, 0.13824953,\n",
       "        0.13854935, 0.14024797, 0.14065861, 0.14168676, 0.14136171],\n",
       "       [0.10831108, 0.10855858, 0.10911144, 0.10762707, 0.10926782,\n",
       "        0.10924196, 0.11034215, 0.11014021, 0.11252282, 0.11238615,\n",
       "        0.11227533, 0.11200876, 0.11141586, 0.1104068 , 0.11178095,\n",
       "        0.11157225, 0.11144233, 0.11094119, 0.10921549, 0.10963907,\n",
       "        0.10930046, 0.10952147, 0.11034215, 0.11239908, 0.11224947,\n",
       "        0.11223655, 0.11100584, 0.11361624, 0.11360332, 0.11381818,\n",
       "        0.1124705 , 0.11345371, 0.11187208, 0.11166336, 0.11310894,\n",
       "        0.11404597, 0.11437782, 0.1164089 , 0.11738594, 0.1167672 ,\n",
       "        0.11544599, 0.11424791, 0.11443693, 0.11475583, 0.11366858,\n",
       "        0.11351898, 0.11179389, 0.11228211, 0.11401334, 0.11416358,\n",
       "        0.11425469, 0.11398749, 0.1131151 , 0.11342785, 0.11495777,\n",
       "        0.11260718, 0.11287437, 0.11117515, 0.11015314, 0.11141586]])"
      ]
     },
     "execution_count": 41,
     "metadata": {},
     "output_type": "execute_result"
    }
   ],
   "source": [
    "X_train[:2]"
   ]
  },
  {
   "cell_type": "markdown",
   "metadata": {},
   "source": [
    "### Creating a model"
   ]
  },
  {
   "cell_type": "code",
   "execution_count": 42,
   "metadata": {},
   "outputs": [
    {
     "name": "stdout",
     "output_type": "stream",
     "text": [
      "Model: \"sequential_1\"\n",
      "_________________________________________________________________\n",
      " Layer (type)                Output Shape              Param #   \n",
      "=================================================================\n",
      " lstm (LSTM)                 (None, 60, 50)            10400     \n",
      "                                                                 \n",
      " lstm_1 (LSTM)               (None, 50)                20200     \n",
      "                                                                 \n",
      " dense (Dense)               (None, 1)                 51        \n",
      "                                                                 \n",
      "=================================================================\n",
      "Total params: 30651 (119.73 KB)\n",
      "Trainable params: 30651 (119.73 KB)\n",
      "Non-trainable params: 0 (0.00 Byte)\n",
      "_________________________________________________________________\n"
     ]
    }
   ],
   "source": [
    "model_lstm = tf.keras.models.Sequential()\n",
    "model_lstm.add(tf.keras.layers.LSTM(units=50, return_sequences=True, input_shape=(X_train.shape[1], 1)))\n",
    "model_lstm.add(tf.keras.layers.LSTM(units=50))\n",
    "model_lstm.add(tf.keras.layers.Dense(units=1))\n",
    "\n",
    "model_lstm.compile(optimizer='adam', loss='mean_squared_error', metrics=['accuracy'])\n",
    "model_lstm.summary()"
   ]
  },
  {
   "cell_type": "markdown",
   "metadata": {},
   "source": [
    "### Traning a model"
   ]
  },
  {
   "cell_type": "code",
   "execution_count": 43,
   "metadata": {},
   "outputs": [
    {
     "name": "stdout",
     "output_type": "stream",
     "text": [
      "Epoch 1/100\n",
      "348/348 [==============================] - 16s 38ms/step - loss: 8.3359e-04 - accuracy: 9.0017e-05\n",
      "Epoch 2/100\n",
      "348/348 [==============================] - 13s 37ms/step - loss: 4.7868e-05 - accuracy: 9.0017e-05\n",
      "Epoch 3/100\n",
      "348/348 [==============================] - 13s 38ms/step - loss: 4.4759e-05 - accuracy: 9.0017e-05\n",
      "Epoch 4/100\n",
      "348/348 [==============================] - 13s 38ms/step - loss: 4.3542e-05 - accuracy: 9.0017e-05\n",
      "Epoch 5/100\n",
      "348/348 [==============================] - 14s 40ms/step - loss: 3.6291e-05 - accuracy: 9.0017e-05\n",
      "Epoch 6/100\n",
      "348/348 [==============================] - 16s 46ms/step - loss: 3.7365e-05 - accuracy: 9.0017e-05\n",
      "Epoch 7/100\n",
      "348/348 [==============================] - 13s 37ms/step - loss: 3.2219e-05 - accuracy: 9.0017e-05\n",
      "Epoch 8/100\n",
      "348/348 [==============================] - 13s 36ms/step - loss: 3.2718e-05 - accuracy: 9.0017e-05\n",
      "Epoch 9/100\n",
      "348/348 [==============================] - 12s 35ms/step - loss: 3.3793e-05 - accuracy: 9.0017e-05\n",
      "Epoch 10/100\n",
      "348/348 [==============================] - 13s 36ms/step - loss: 2.8474e-05 - accuracy: 9.0017e-05\n",
      "Epoch 11/100\n",
      " 70/348 [=====>........................] - ETA: 14s - loss: 2.6633e-05 - accuracy: 4.4643e-04"
     ]
    },
    {
     "ename": "KeyboardInterrupt",
     "evalue": "",
     "output_type": "error",
     "traceback": [
      "\u001b[0;31m---------------------------------------------------------------------------\u001b[0m",
      "\u001b[0;31mKeyboardInterrupt\u001b[0m                         Traceback (most recent call last)",
      "\u001b[1;32m/home/rol3ert99/Desktop/stock-predictions-using-neural-networks/run.ipynb Komórka 22\u001b[0m line \u001b[0;36m1\n\u001b[0;32m----> <a href='vscode-notebook-cell:/home/rol3ert99/Desktop/stock-predictions-using-neural-networks/run.ipynb#X26sZmlsZQ%3D%3D?line=0'>1</a>\u001b[0m model_lstm\u001b[39m.\u001b[39;49mfit(X_train, Y_train, epochs\u001b[39m=\u001b[39;49m\u001b[39m100\u001b[39;49m, batch_size\u001b[39m=\u001b[39;49m\u001b[39m32\u001b[39;49m)\n",
      "File \u001b[0;32m~/.local/lib/python3.10/site-packages/keras/src/utils/traceback_utils.py:65\u001b[0m, in \u001b[0;36mfilter_traceback.<locals>.error_handler\u001b[0;34m(*args, **kwargs)\u001b[0m\n\u001b[1;32m     63\u001b[0m filtered_tb \u001b[39m=\u001b[39m \u001b[39mNone\u001b[39;00m\n\u001b[1;32m     64\u001b[0m \u001b[39mtry\u001b[39;00m:\n\u001b[0;32m---> 65\u001b[0m     \u001b[39mreturn\u001b[39;00m fn(\u001b[39m*\u001b[39;49margs, \u001b[39m*\u001b[39;49m\u001b[39m*\u001b[39;49mkwargs)\n\u001b[1;32m     66\u001b[0m \u001b[39mexcept\u001b[39;00m \u001b[39mException\u001b[39;00m \u001b[39mas\u001b[39;00m e:\n\u001b[1;32m     67\u001b[0m     filtered_tb \u001b[39m=\u001b[39m _process_traceback_frames(e\u001b[39m.\u001b[39m__traceback__)\n",
      "File \u001b[0;32m~/.local/lib/python3.10/site-packages/keras/src/engine/training.py:1807\u001b[0m, in \u001b[0;36mModel.fit\u001b[0;34m(self, x, y, batch_size, epochs, verbose, callbacks, validation_split, validation_data, shuffle, class_weight, sample_weight, initial_epoch, steps_per_epoch, validation_steps, validation_batch_size, validation_freq, max_queue_size, workers, use_multiprocessing)\u001b[0m\n\u001b[1;32m   1799\u001b[0m \u001b[39mwith\u001b[39;00m tf\u001b[39m.\u001b[39mprofiler\u001b[39m.\u001b[39mexperimental\u001b[39m.\u001b[39mTrace(\n\u001b[1;32m   1800\u001b[0m     \u001b[39m\"\u001b[39m\u001b[39mtrain\u001b[39m\u001b[39m\"\u001b[39m,\n\u001b[1;32m   1801\u001b[0m     epoch_num\u001b[39m=\u001b[39mepoch,\n\u001b[0;32m   (...)\u001b[0m\n\u001b[1;32m   1804\u001b[0m     _r\u001b[39m=\u001b[39m\u001b[39m1\u001b[39m,\n\u001b[1;32m   1805\u001b[0m ):\n\u001b[1;32m   1806\u001b[0m     callbacks\u001b[39m.\u001b[39mon_train_batch_begin(step)\n\u001b[0;32m-> 1807\u001b[0m     tmp_logs \u001b[39m=\u001b[39m \u001b[39mself\u001b[39;49m\u001b[39m.\u001b[39;49mtrain_function(iterator)\n\u001b[1;32m   1808\u001b[0m     \u001b[39mif\u001b[39;00m data_handler\u001b[39m.\u001b[39mshould_sync:\n\u001b[1;32m   1809\u001b[0m         context\u001b[39m.\u001b[39masync_wait()\n",
      "File \u001b[0;32m~/.local/lib/python3.10/site-packages/tensorflow/python/util/traceback_utils.py:150\u001b[0m, in \u001b[0;36mfilter_traceback.<locals>.error_handler\u001b[0;34m(*args, **kwargs)\u001b[0m\n\u001b[1;32m    148\u001b[0m filtered_tb \u001b[39m=\u001b[39m \u001b[39mNone\u001b[39;00m\n\u001b[1;32m    149\u001b[0m \u001b[39mtry\u001b[39;00m:\n\u001b[0;32m--> 150\u001b[0m   \u001b[39mreturn\u001b[39;00m fn(\u001b[39m*\u001b[39;49margs, \u001b[39m*\u001b[39;49m\u001b[39m*\u001b[39;49mkwargs)\n\u001b[1;32m    151\u001b[0m \u001b[39mexcept\u001b[39;00m \u001b[39mException\u001b[39;00m \u001b[39mas\u001b[39;00m e:\n\u001b[1;32m    152\u001b[0m   filtered_tb \u001b[39m=\u001b[39m _process_traceback_frames(e\u001b[39m.\u001b[39m__traceback__)\n",
      "File \u001b[0;32m~/.local/lib/python3.10/site-packages/tensorflow/python/eager/polymorphic_function/polymorphic_function.py:832\u001b[0m, in \u001b[0;36mFunction.__call__\u001b[0;34m(self, *args, **kwds)\u001b[0m\n\u001b[1;32m    829\u001b[0m compiler \u001b[39m=\u001b[39m \u001b[39m\"\u001b[39m\u001b[39mxla\u001b[39m\u001b[39m\"\u001b[39m \u001b[39mif\u001b[39;00m \u001b[39mself\u001b[39m\u001b[39m.\u001b[39m_jit_compile \u001b[39melse\u001b[39;00m \u001b[39m\"\u001b[39m\u001b[39mnonXla\u001b[39m\u001b[39m\"\u001b[39m\n\u001b[1;32m    831\u001b[0m \u001b[39mwith\u001b[39;00m OptionalXlaContext(\u001b[39mself\u001b[39m\u001b[39m.\u001b[39m_jit_compile):\n\u001b[0;32m--> 832\u001b[0m   result \u001b[39m=\u001b[39m \u001b[39mself\u001b[39;49m\u001b[39m.\u001b[39;49m_call(\u001b[39m*\u001b[39;49margs, \u001b[39m*\u001b[39;49m\u001b[39m*\u001b[39;49mkwds)\n\u001b[1;32m    834\u001b[0m new_tracing_count \u001b[39m=\u001b[39m \u001b[39mself\u001b[39m\u001b[39m.\u001b[39mexperimental_get_tracing_count()\n\u001b[1;32m    835\u001b[0m without_tracing \u001b[39m=\u001b[39m (tracing_count \u001b[39m==\u001b[39m new_tracing_count)\n",
      "File \u001b[0;32m~/.local/lib/python3.10/site-packages/tensorflow/python/eager/polymorphic_function/polymorphic_function.py:868\u001b[0m, in \u001b[0;36mFunction._call\u001b[0;34m(self, *args, **kwds)\u001b[0m\n\u001b[1;32m    865\u001b[0m   \u001b[39mself\u001b[39m\u001b[39m.\u001b[39m_lock\u001b[39m.\u001b[39mrelease()\n\u001b[1;32m    866\u001b[0m   \u001b[39m# In this case we have created variables on the first call, so we run the\u001b[39;00m\n\u001b[1;32m    867\u001b[0m   \u001b[39m# defunned version which is guaranteed to never create variables.\u001b[39;00m\n\u001b[0;32m--> 868\u001b[0m   \u001b[39mreturn\u001b[39;00m tracing_compilation\u001b[39m.\u001b[39;49mcall_function(\n\u001b[1;32m    869\u001b[0m       args, kwds, \u001b[39mself\u001b[39;49m\u001b[39m.\u001b[39;49m_no_variable_creation_config\n\u001b[1;32m    870\u001b[0m   )\n\u001b[1;32m    871\u001b[0m \u001b[39melif\u001b[39;00m \u001b[39mself\u001b[39m\u001b[39m.\u001b[39m_variable_creation_config \u001b[39mis\u001b[39;00m \u001b[39mnot\u001b[39;00m \u001b[39mNone\u001b[39;00m:\n\u001b[1;32m    872\u001b[0m   \u001b[39m# Release the lock early so that multiple threads can perform the call\u001b[39;00m\n\u001b[1;32m    873\u001b[0m   \u001b[39m# in parallel.\u001b[39;00m\n\u001b[1;32m    874\u001b[0m   \u001b[39mself\u001b[39m\u001b[39m.\u001b[39m_lock\u001b[39m.\u001b[39mrelease()\n",
      "File \u001b[0;32m~/.local/lib/python3.10/site-packages/tensorflow/python/eager/polymorphic_function/tracing_compilation.py:139\u001b[0m, in \u001b[0;36mcall_function\u001b[0;34m(args, kwargs, tracing_options)\u001b[0m\n\u001b[1;32m    137\u001b[0m bound_args \u001b[39m=\u001b[39m function\u001b[39m.\u001b[39mfunction_type\u001b[39m.\u001b[39mbind(\u001b[39m*\u001b[39margs, \u001b[39m*\u001b[39m\u001b[39m*\u001b[39mkwargs)\n\u001b[1;32m    138\u001b[0m flat_inputs \u001b[39m=\u001b[39m function\u001b[39m.\u001b[39mfunction_type\u001b[39m.\u001b[39munpack_inputs(bound_args)\n\u001b[0;32m--> 139\u001b[0m \u001b[39mreturn\u001b[39;00m function\u001b[39m.\u001b[39;49m_call_flat(  \u001b[39m# pylint: disable=protected-access\u001b[39;49;00m\n\u001b[1;32m    140\u001b[0m     flat_inputs, captured_inputs\u001b[39m=\u001b[39;49mfunction\u001b[39m.\u001b[39;49mcaptured_inputs\n\u001b[1;32m    141\u001b[0m )\n",
      "File \u001b[0;32m~/.local/lib/python3.10/site-packages/tensorflow/python/eager/polymorphic_function/concrete_function.py:1323\u001b[0m, in \u001b[0;36mConcreteFunction._call_flat\u001b[0;34m(self, tensor_inputs, captured_inputs)\u001b[0m\n\u001b[1;32m   1319\u001b[0m possible_gradient_type \u001b[39m=\u001b[39m gradients_util\u001b[39m.\u001b[39mPossibleTapeGradientTypes(args)\n\u001b[1;32m   1320\u001b[0m \u001b[39mif\u001b[39;00m (possible_gradient_type \u001b[39m==\u001b[39m gradients_util\u001b[39m.\u001b[39mPOSSIBLE_GRADIENT_TYPES_NONE\n\u001b[1;32m   1321\u001b[0m     \u001b[39mand\u001b[39;00m executing_eagerly):\n\u001b[1;32m   1322\u001b[0m   \u001b[39m# No tape is watching; skip to running the function.\u001b[39;00m\n\u001b[0;32m-> 1323\u001b[0m   \u001b[39mreturn\u001b[39;00m \u001b[39mself\u001b[39;49m\u001b[39m.\u001b[39;49m_inference_function\u001b[39m.\u001b[39;49mcall_preflattened(args)\n\u001b[1;32m   1324\u001b[0m forward_backward \u001b[39m=\u001b[39m \u001b[39mself\u001b[39m\u001b[39m.\u001b[39m_select_forward_and_backward_functions(\n\u001b[1;32m   1325\u001b[0m     args,\n\u001b[1;32m   1326\u001b[0m     possible_gradient_type,\n\u001b[1;32m   1327\u001b[0m     executing_eagerly)\n\u001b[1;32m   1328\u001b[0m forward_function, args_with_tangents \u001b[39m=\u001b[39m forward_backward\u001b[39m.\u001b[39mforward()\n",
      "File \u001b[0;32m~/.local/lib/python3.10/site-packages/tensorflow/python/eager/polymorphic_function/atomic_function.py:216\u001b[0m, in \u001b[0;36mAtomicFunction.call_preflattened\u001b[0;34m(self, args)\u001b[0m\n\u001b[1;32m    214\u001b[0m \u001b[39mdef\u001b[39;00m \u001b[39mcall_preflattened\u001b[39m(\u001b[39mself\u001b[39m, args: Sequence[core\u001b[39m.\u001b[39mTensor]) \u001b[39m-\u001b[39m\u001b[39m>\u001b[39m Any:\n\u001b[1;32m    215\u001b[0m \u001b[39m  \u001b[39m\u001b[39m\"\"\"Calls with flattened tensor inputs and returns the structured output.\"\"\"\u001b[39;00m\n\u001b[0;32m--> 216\u001b[0m   flat_outputs \u001b[39m=\u001b[39m \u001b[39mself\u001b[39;49m\u001b[39m.\u001b[39;49mcall_flat(\u001b[39m*\u001b[39;49margs)\n\u001b[1;32m    217\u001b[0m   \u001b[39mreturn\u001b[39;00m \u001b[39mself\u001b[39m\u001b[39m.\u001b[39mfunction_type\u001b[39m.\u001b[39mpack_output(flat_outputs)\n",
      "File \u001b[0;32m~/.local/lib/python3.10/site-packages/tensorflow/python/eager/polymorphic_function/atomic_function.py:251\u001b[0m, in \u001b[0;36mAtomicFunction.call_flat\u001b[0;34m(self, *args)\u001b[0m\n\u001b[1;32m    249\u001b[0m \u001b[39mwith\u001b[39;00m record\u001b[39m.\u001b[39mstop_recording():\n\u001b[1;32m    250\u001b[0m   \u001b[39mif\u001b[39;00m \u001b[39mself\u001b[39m\u001b[39m.\u001b[39m_bound_context\u001b[39m.\u001b[39mexecuting_eagerly():\n\u001b[0;32m--> 251\u001b[0m     outputs \u001b[39m=\u001b[39m \u001b[39mself\u001b[39;49m\u001b[39m.\u001b[39;49m_bound_context\u001b[39m.\u001b[39;49mcall_function(\n\u001b[1;32m    252\u001b[0m         \u001b[39mself\u001b[39;49m\u001b[39m.\u001b[39;49mname,\n\u001b[1;32m    253\u001b[0m         \u001b[39mlist\u001b[39;49m(args),\n\u001b[1;32m    254\u001b[0m         \u001b[39mlen\u001b[39;49m(\u001b[39mself\u001b[39;49m\u001b[39m.\u001b[39;49mfunction_type\u001b[39m.\u001b[39;49mflat_outputs),\n\u001b[1;32m    255\u001b[0m     )\n\u001b[1;32m    256\u001b[0m   \u001b[39melse\u001b[39;00m:\n\u001b[1;32m    257\u001b[0m     outputs \u001b[39m=\u001b[39m make_call_op_in_graph(\n\u001b[1;32m    258\u001b[0m         \u001b[39mself\u001b[39m,\n\u001b[1;32m    259\u001b[0m         \u001b[39mlist\u001b[39m(args),\n\u001b[1;32m    260\u001b[0m         \u001b[39mself\u001b[39m\u001b[39m.\u001b[39m_bound_context\u001b[39m.\u001b[39mfunction_call_options\u001b[39m.\u001b[39mas_attrs(),\n\u001b[1;32m    261\u001b[0m     )\n",
      "File \u001b[0;32m~/.local/lib/python3.10/site-packages/tensorflow/python/eager/context.py:1486\u001b[0m, in \u001b[0;36mContext.call_function\u001b[0;34m(self, name, tensor_inputs, num_outputs)\u001b[0m\n\u001b[1;32m   1484\u001b[0m cancellation_context \u001b[39m=\u001b[39m cancellation\u001b[39m.\u001b[39mcontext()\n\u001b[1;32m   1485\u001b[0m \u001b[39mif\u001b[39;00m cancellation_context \u001b[39mis\u001b[39;00m \u001b[39mNone\u001b[39;00m:\n\u001b[0;32m-> 1486\u001b[0m   outputs \u001b[39m=\u001b[39m execute\u001b[39m.\u001b[39;49mexecute(\n\u001b[1;32m   1487\u001b[0m       name\u001b[39m.\u001b[39;49mdecode(\u001b[39m\"\u001b[39;49m\u001b[39mutf-8\u001b[39;49m\u001b[39m\"\u001b[39;49m),\n\u001b[1;32m   1488\u001b[0m       num_outputs\u001b[39m=\u001b[39;49mnum_outputs,\n\u001b[1;32m   1489\u001b[0m       inputs\u001b[39m=\u001b[39;49mtensor_inputs,\n\u001b[1;32m   1490\u001b[0m       attrs\u001b[39m=\u001b[39;49mattrs,\n\u001b[1;32m   1491\u001b[0m       ctx\u001b[39m=\u001b[39;49m\u001b[39mself\u001b[39;49m,\n\u001b[1;32m   1492\u001b[0m   )\n\u001b[1;32m   1493\u001b[0m \u001b[39melse\u001b[39;00m:\n\u001b[1;32m   1494\u001b[0m   outputs \u001b[39m=\u001b[39m execute\u001b[39m.\u001b[39mexecute_with_cancellation(\n\u001b[1;32m   1495\u001b[0m       name\u001b[39m.\u001b[39mdecode(\u001b[39m\"\u001b[39m\u001b[39mutf-8\u001b[39m\u001b[39m\"\u001b[39m),\n\u001b[1;32m   1496\u001b[0m       num_outputs\u001b[39m=\u001b[39mnum_outputs,\n\u001b[0;32m   (...)\u001b[0m\n\u001b[1;32m   1500\u001b[0m       cancellation_manager\u001b[39m=\u001b[39mcancellation_context,\n\u001b[1;32m   1501\u001b[0m   )\n",
      "File \u001b[0;32m~/.local/lib/python3.10/site-packages/tensorflow/python/eager/execute.py:53\u001b[0m, in \u001b[0;36mquick_execute\u001b[0;34m(op_name, num_outputs, inputs, attrs, ctx, name)\u001b[0m\n\u001b[1;32m     51\u001b[0m \u001b[39mtry\u001b[39;00m:\n\u001b[1;32m     52\u001b[0m   ctx\u001b[39m.\u001b[39mensure_initialized()\n\u001b[0;32m---> 53\u001b[0m   tensors \u001b[39m=\u001b[39m pywrap_tfe\u001b[39m.\u001b[39;49mTFE_Py_Execute(ctx\u001b[39m.\u001b[39;49m_handle, device_name, op_name,\n\u001b[1;32m     54\u001b[0m                                       inputs, attrs, num_outputs)\n\u001b[1;32m     55\u001b[0m \u001b[39mexcept\u001b[39;00m core\u001b[39m.\u001b[39m_NotOkStatusException \u001b[39mas\u001b[39;00m e:\n\u001b[1;32m     56\u001b[0m   \u001b[39mif\u001b[39;00m name \u001b[39mis\u001b[39;00m \u001b[39mnot\u001b[39;00m \u001b[39mNone\u001b[39;00m:\n",
      "\u001b[0;31mKeyboardInterrupt\u001b[0m: "
     ]
    }
   ],
   "source": [
    "model_lstm.fit(X_train, Y_train, epochs=100, batch_size=32)"
   ]
  },
  {
   "cell_type": "code",
   "execution_count": null,
   "metadata": {},
   "outputs": [],
   "source": []
  }
 ],
 "metadata": {
  "kernelspec": {
   "display_name": "Python 3 (ipykernel)",
   "language": "python",
   "name": "python3"
  },
  "language_info": {
   "codemirror_mode": {
    "name": "ipython",
    "version": 3
   },
   "file_extension": ".py",
   "mimetype": "text/x-python",
   "name": "python",
   "nbconvert_exporter": "python",
   "pygments_lexer": "ipython3",
   "version": "3.10.5"
  }
 },
 "nbformat": 4,
 "nbformat_minor": 2
}
