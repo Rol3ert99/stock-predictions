{
 "cells": [
  {
   "cell_type": "code",
   "execution_count": 1,
   "metadata": {},
   "outputs": [
    {
     "name": "stderr",
     "output_type": "stream",
     "text": [
      "2023-12-20 17:36:37.333969: E external/local_xla/xla/stream_executor/cuda/cuda_dnn.cc:9261] Unable to register cuDNN factory: Attempting to register factory for plugin cuDNN when one has already been registered\n",
      "2023-12-20 17:36:37.334005: E external/local_xla/xla/stream_executor/cuda/cuda_fft.cc:607] Unable to register cuFFT factory: Attempting to register factory for plugin cuFFT when one has already been registered\n",
      "2023-12-20 17:36:37.336071: E external/local_xla/xla/stream_executor/cuda/cuda_blas.cc:1515] Unable to register cuBLAS factory: Attempting to register factory for plugin cuBLAS when one has already been registered\n",
      "2023-12-20 17:36:37.345607: I tensorflow/core/platform/cpu_feature_guard.cc:182] This TensorFlow binary is optimized to use available CPU instructions in performance-critical operations.\n",
      "To enable the following instructions: AVX2 FMA, in other operations, rebuild TensorFlow with the appropriate compiler flags.\n",
      "2023-12-20 17:36:38.388232: W tensorflow/compiler/tf2tensorrt/utils/py_utils.cc:38] TF-TRT Warning: Could not find TensorRT\n"
     ]
    },
    {
     "data": {
      "text/html": [
       "<div>\n",
       "<style scoped>\n",
       "    .dataframe tbody tr th:only-of-type {\n",
       "        vertical-align: middle;\n",
       "    }\n",
       "\n",
       "    .dataframe tbody tr th {\n",
       "        vertical-align: top;\n",
       "    }\n",
       "\n",
       "    .dataframe thead th {\n",
       "        text-align: right;\n",
       "    }\n",
       "</style>\n",
       "<table border=\"1\" class=\"dataframe\">\n",
       "  <thead>\n",
       "    <tr style=\"text-align: right;\">\n",
       "      <th></th>\n",
       "      <th>Index</th>\n",
       "      <th>Date</th>\n",
       "      <th>Open</th>\n",
       "      <th>High</th>\n",
       "      <th>Low</th>\n",
       "      <th>Close</th>\n",
       "      <th>Adj Close</th>\n",
       "      <th>Volume</th>\n",
       "    </tr>\n",
       "  </thead>\n",
       "  <tbody>\n",
       "    <tr>\n",
       "      <th>0</th>\n",
       "      <td>NYA</td>\n",
       "      <td>1965-12-31</td>\n",
       "      <td>528.690002</td>\n",
       "      <td>528.690002</td>\n",
       "      <td>528.690002</td>\n",
       "      <td>528.690002</td>\n",
       "      <td>528.690002</td>\n",
       "      <td>0.0</td>\n",
       "    </tr>\n",
       "    <tr>\n",
       "      <th>1</th>\n",
       "      <td>NYA</td>\n",
       "      <td>1966-01-03</td>\n",
       "      <td>527.210022</td>\n",
       "      <td>527.210022</td>\n",
       "      <td>527.210022</td>\n",
       "      <td>527.210022</td>\n",
       "      <td>527.210022</td>\n",
       "      <td>0.0</td>\n",
       "    </tr>\n",
       "    <tr>\n",
       "      <th>2</th>\n",
       "      <td>NYA</td>\n",
       "      <td>1966-01-04</td>\n",
       "      <td>527.840027</td>\n",
       "      <td>527.840027</td>\n",
       "      <td>527.840027</td>\n",
       "      <td>527.840027</td>\n",
       "      <td>527.840027</td>\n",
       "      <td>0.0</td>\n",
       "    </tr>\n",
       "    <tr>\n",
       "      <th>3</th>\n",
       "      <td>NYA</td>\n",
       "      <td>1966-01-05</td>\n",
       "      <td>531.119995</td>\n",
       "      <td>531.119995</td>\n",
       "      <td>531.119995</td>\n",
       "      <td>531.119995</td>\n",
       "      <td>531.119995</td>\n",
       "      <td>0.0</td>\n",
       "    </tr>\n",
       "    <tr>\n",
       "      <th>4</th>\n",
       "      <td>NYA</td>\n",
       "      <td>1966-01-06</td>\n",
       "      <td>532.070007</td>\n",
       "      <td>532.070007</td>\n",
       "      <td>532.070007</td>\n",
       "      <td>532.070007</td>\n",
       "      <td>532.070007</td>\n",
       "      <td>0.0</td>\n",
       "    </tr>\n",
       "    <tr>\n",
       "      <th>...</th>\n",
       "      <td>...</td>\n",
       "      <td>...</td>\n",
       "      <td>...</td>\n",
       "      <td>...</td>\n",
       "      <td>...</td>\n",
       "      <td>...</td>\n",
       "      <td>...</td>\n",
       "      <td>...</td>\n",
       "    </tr>\n",
       "    <tr>\n",
       "      <th>112452</th>\n",
       "      <td>N100</td>\n",
       "      <td>2021-05-27</td>\n",
       "      <td>1241.119995</td>\n",
       "      <td>1251.910034</td>\n",
       "      <td>1241.119995</td>\n",
       "      <td>1247.069946</td>\n",
       "      <td>1247.069946</td>\n",
       "      <td>379696400.0</td>\n",
       "    </tr>\n",
       "    <tr>\n",
       "      <th>112453</th>\n",
       "      <td>N100</td>\n",
       "      <td>2021-05-28</td>\n",
       "      <td>1249.469971</td>\n",
       "      <td>1259.209961</td>\n",
       "      <td>1249.030029</td>\n",
       "      <td>1256.599976</td>\n",
       "      <td>1256.599976</td>\n",
       "      <td>160773400.0</td>\n",
       "    </tr>\n",
       "    <tr>\n",
       "      <th>112454</th>\n",
       "      <td>N100</td>\n",
       "      <td>2021-05-31</td>\n",
       "      <td>1256.079956</td>\n",
       "      <td>1258.880005</td>\n",
       "      <td>1248.140015</td>\n",
       "      <td>1248.930054</td>\n",
       "      <td>1248.930054</td>\n",
       "      <td>91173700.0</td>\n",
       "    </tr>\n",
       "    <tr>\n",
       "      <th>112455</th>\n",
       "      <td>N100</td>\n",
       "      <td>2021-06-01</td>\n",
       "      <td>1254.609985</td>\n",
       "      <td>1265.660034</td>\n",
       "      <td>1254.609985</td>\n",
       "      <td>1258.579956</td>\n",
       "      <td>1258.579956</td>\n",
       "      <td>155179900.0</td>\n",
       "    </tr>\n",
       "    <tr>\n",
       "      <th>112456</th>\n",
       "      <td>N100</td>\n",
       "      <td>2021-06-02</td>\n",
       "      <td>1258.489990</td>\n",
       "      <td>1263.709961</td>\n",
       "      <td>1258.239990</td>\n",
       "      <td>1263.619995</td>\n",
       "      <td>1263.619995</td>\n",
       "      <td>148465000.0</td>\n",
       "    </tr>\n",
       "  </tbody>\n",
       "</table>\n",
       "<p>112457 rows × 8 columns</p>\n",
       "</div>"
      ],
      "text/plain": [
       "       Index        Date         Open         High          Low        Close  \\\n",
       "0        NYA  1965-12-31   528.690002   528.690002   528.690002   528.690002   \n",
       "1        NYA  1966-01-03   527.210022   527.210022   527.210022   527.210022   \n",
       "2        NYA  1966-01-04   527.840027   527.840027   527.840027   527.840027   \n",
       "3        NYA  1966-01-05   531.119995   531.119995   531.119995   531.119995   \n",
       "4        NYA  1966-01-06   532.070007   532.070007   532.070007   532.070007   \n",
       "...      ...         ...          ...          ...          ...          ...   \n",
       "112452  N100  2021-05-27  1241.119995  1251.910034  1241.119995  1247.069946   \n",
       "112453  N100  2021-05-28  1249.469971  1259.209961  1249.030029  1256.599976   \n",
       "112454  N100  2021-05-31  1256.079956  1258.880005  1248.140015  1248.930054   \n",
       "112455  N100  2021-06-01  1254.609985  1265.660034  1254.609985  1258.579956   \n",
       "112456  N100  2021-06-02  1258.489990  1263.709961  1258.239990  1263.619995   \n",
       "\n",
       "          Adj Close       Volume  \n",
       "0        528.690002          0.0  \n",
       "1        527.210022          0.0  \n",
       "2        527.840027          0.0  \n",
       "3        531.119995          0.0  \n",
       "4        532.070007          0.0  \n",
       "...             ...          ...  \n",
       "112452  1247.069946  379696400.0  \n",
       "112453  1256.599976  160773400.0  \n",
       "112454  1248.930054   91173700.0  \n",
       "112455  1258.579956  155179900.0  \n",
       "112456  1263.619995  148465000.0  \n",
       "\n",
       "[112457 rows x 8 columns]"
      ]
     },
     "execution_count": 1,
     "metadata": {},
     "output_type": "execute_result"
    }
   ],
   "source": [
    "import pandas as pd\n",
    "import numpy as np\n",
    "import tensorflow as tf\n",
    "from sklearn.preprocessing import MinMaxScaler\n",
    "from sklearn.model_selection import train_test_split\n",
    "\n",
    "stock_df = pd.read_csv('indexData.csv')\n",
    "stock_df"
   ]
  },
  {
   "cell_type": "markdown",
   "metadata": {},
   "source": [
    "### Data preprocessing"
   ]
  },
  {
   "cell_type": "code",
   "execution_count": 2,
   "metadata": {},
   "outputs": [
    {
     "data": {
      "text/html": [
       "<div>\n",
       "<style scoped>\n",
       "    .dataframe tbody tr th:only-of-type {\n",
       "        vertical-align: middle;\n",
       "    }\n",
       "\n",
       "    .dataframe tbody tr th {\n",
       "        vertical-align: top;\n",
       "    }\n",
       "\n",
       "    .dataframe thead th {\n",
       "        text-align: right;\n",
       "    }\n",
       "</style>\n",
       "<table border=\"1\" class=\"dataframe\">\n",
       "  <thead>\n",
       "    <tr style=\"text-align: right;\">\n",
       "      <th></th>\n",
       "      <th>Index</th>\n",
       "      <th>Date</th>\n",
       "      <th>Open</th>\n",
       "      <th>High</th>\n",
       "      <th>Low</th>\n",
       "      <th>Close</th>\n",
       "      <th>Adj Close</th>\n",
       "      <th>Volume</th>\n",
       "    </tr>\n",
       "  </thead>\n",
       "  <tbody>\n",
       "    <tr>\n",
       "      <th>0</th>\n",
       "      <td>NYA</td>\n",
       "      <td>1965-12-31</td>\n",
       "      <td>528.690002</td>\n",
       "      <td>528.690002</td>\n",
       "      <td>528.690002</td>\n",
       "      <td>528.690002</td>\n",
       "      <td>528.690002</td>\n",
       "      <td>0.000000e+00</td>\n",
       "    </tr>\n",
       "    <tr>\n",
       "      <th>1</th>\n",
       "      <td>NYA</td>\n",
       "      <td>1966-01-03</td>\n",
       "      <td>527.210022</td>\n",
       "      <td>527.210022</td>\n",
       "      <td>527.210022</td>\n",
       "      <td>527.210022</td>\n",
       "      <td>527.210022</td>\n",
       "      <td>0.000000e+00</td>\n",
       "    </tr>\n",
       "    <tr>\n",
       "      <th>2</th>\n",
       "      <td>NYA</td>\n",
       "      <td>1966-01-04</td>\n",
       "      <td>527.840027</td>\n",
       "      <td>527.840027</td>\n",
       "      <td>527.840027</td>\n",
       "      <td>527.840027</td>\n",
       "      <td>527.840027</td>\n",
       "      <td>0.000000e+00</td>\n",
       "    </tr>\n",
       "    <tr>\n",
       "      <th>3</th>\n",
       "      <td>NYA</td>\n",
       "      <td>1966-01-05</td>\n",
       "      <td>531.119995</td>\n",
       "      <td>531.119995</td>\n",
       "      <td>531.119995</td>\n",
       "      <td>531.119995</td>\n",
       "      <td>531.119995</td>\n",
       "      <td>0.000000e+00</td>\n",
       "    </tr>\n",
       "    <tr>\n",
       "      <th>4</th>\n",
       "      <td>NYA</td>\n",
       "      <td>1966-01-06</td>\n",
       "      <td>532.070007</td>\n",
       "      <td>532.070007</td>\n",
       "      <td>532.070007</td>\n",
       "      <td>532.070007</td>\n",
       "      <td>532.070007</td>\n",
       "      <td>0.000000e+00</td>\n",
       "    </tr>\n",
       "    <tr>\n",
       "      <th>...</th>\n",
       "      <td>...</td>\n",
       "      <td>...</td>\n",
       "      <td>...</td>\n",
       "      <td>...</td>\n",
       "      <td>...</td>\n",
       "      <td>...</td>\n",
       "      <td>...</td>\n",
       "      <td>...</td>\n",
       "    </tr>\n",
       "    <tr>\n",
       "      <th>13943</th>\n",
       "      <td>NYA</td>\n",
       "      <td>2021-05-24</td>\n",
       "      <td>16375.000000</td>\n",
       "      <td>16508.519530</td>\n",
       "      <td>16375.000000</td>\n",
       "      <td>16464.689450</td>\n",
       "      <td>16464.689450</td>\n",
       "      <td>2.947400e+09</td>\n",
       "    </tr>\n",
       "    <tr>\n",
       "      <th>13944</th>\n",
       "      <td>NYA</td>\n",
       "      <td>2021-05-25</td>\n",
       "      <td>16464.689450</td>\n",
       "      <td>16525.810550</td>\n",
       "      <td>16375.150390</td>\n",
       "      <td>16390.189450</td>\n",
       "      <td>16390.189450</td>\n",
       "      <td>3.420870e+09</td>\n",
       "    </tr>\n",
       "    <tr>\n",
       "      <th>13945</th>\n",
       "      <td>NYA</td>\n",
       "      <td>2021-05-26</td>\n",
       "      <td>16390.189450</td>\n",
       "      <td>16466.339840</td>\n",
       "      <td>16388.320310</td>\n",
       "      <td>16451.960940</td>\n",
       "      <td>16451.960940</td>\n",
       "      <td>3.674490e+09</td>\n",
       "    </tr>\n",
       "    <tr>\n",
       "      <th>13946</th>\n",
       "      <td>NYA</td>\n",
       "      <td>2021-05-27</td>\n",
       "      <td>16451.960940</td>\n",
       "      <td>16546.359380</td>\n",
       "      <td>16451.960940</td>\n",
       "      <td>16531.949220</td>\n",
       "      <td>16531.949220</td>\n",
       "      <td>5.201110e+09</td>\n",
       "    </tr>\n",
       "    <tr>\n",
       "      <th>13947</th>\n",
       "      <td>NYA</td>\n",
       "      <td>2021-05-28</td>\n",
       "      <td>16531.949220</td>\n",
       "      <td>16588.689450</td>\n",
       "      <td>16531.949220</td>\n",
       "      <td>16555.660160</td>\n",
       "      <td>16555.660160</td>\n",
       "      <td>4.199270e+09</td>\n",
       "    </tr>\n",
       "  </tbody>\n",
       "</table>\n",
       "<p>13948 rows × 8 columns</p>\n",
       "</div>"
      ],
      "text/plain": [
       "      Index        Date          Open          High           Low  \\\n",
       "0       NYA  1965-12-31    528.690002    528.690002    528.690002   \n",
       "1       NYA  1966-01-03    527.210022    527.210022    527.210022   \n",
       "2       NYA  1966-01-04    527.840027    527.840027    527.840027   \n",
       "3       NYA  1966-01-05    531.119995    531.119995    531.119995   \n",
       "4       NYA  1966-01-06    532.070007    532.070007    532.070007   \n",
       "...     ...         ...           ...           ...           ...   \n",
       "13943   NYA  2021-05-24  16375.000000  16508.519530  16375.000000   \n",
       "13944   NYA  2021-05-25  16464.689450  16525.810550  16375.150390   \n",
       "13945   NYA  2021-05-26  16390.189450  16466.339840  16388.320310   \n",
       "13946   NYA  2021-05-27  16451.960940  16546.359380  16451.960940   \n",
       "13947   NYA  2021-05-28  16531.949220  16588.689450  16531.949220   \n",
       "\n",
       "              Close     Adj Close        Volume  \n",
       "0        528.690002    528.690002  0.000000e+00  \n",
       "1        527.210022    527.210022  0.000000e+00  \n",
       "2        527.840027    527.840027  0.000000e+00  \n",
       "3        531.119995    531.119995  0.000000e+00  \n",
       "4        532.070007    532.070007  0.000000e+00  \n",
       "...             ...           ...           ...  \n",
       "13943  16464.689450  16464.689450  2.947400e+09  \n",
       "13944  16390.189450  16390.189450  3.420870e+09  \n",
       "13945  16451.960940  16451.960940  3.674490e+09  \n",
       "13946  16531.949220  16531.949220  5.201110e+09  \n",
       "13947  16555.660160  16555.660160  4.199270e+09  \n",
       "\n",
       "[13948 rows x 8 columns]"
      ]
     },
     "execution_count": 2,
     "metadata": {},
     "output_type": "execute_result"
    }
   ],
   "source": [
    "stock_NYA_df = stock_df[stock_df['Index'] == 'NYA']\n",
    "stock_NYA_df"
   ]
  },
  {
   "cell_type": "code",
   "execution_count": 3,
   "metadata": {},
   "outputs": [
    {
     "name": "stdout",
     "output_type": "stream",
     "text": [
      "<class 'pandas.core.frame.DataFrame'>\n",
      "Index: 13948 entries, 0 to 13947\n",
      "Data columns (total 8 columns):\n",
      " #   Column     Non-Null Count  Dtype  \n",
      "---  ------     --------------  -----  \n",
      " 0   Index      13948 non-null  object \n",
      " 1   Date       13948 non-null  object \n",
      " 2   Open       13947 non-null  float64\n",
      " 3   High       13947 non-null  float64\n",
      " 4   Low        13947 non-null  float64\n",
      " 5   Close      13947 non-null  float64\n",
      " 6   Adj Close  13947 non-null  float64\n",
      " 7   Volume     13947 non-null  float64\n",
      "dtypes: float64(6), object(2)\n",
      "memory usage: 980.7+ KB\n"
     ]
    }
   ],
   "source": [
    "stock_NYA_df.info()"
   ]
  },
  {
   "cell_type": "code",
   "execution_count": 4,
   "metadata": {},
   "outputs": [
    {
     "name": "stdout",
     "output_type": "stream",
     "text": [
      "<class 'pandas.core.frame.DataFrame'>\n",
      "Index: 13947 entries, 0 to 13947\n",
      "Data columns (total 8 columns):\n",
      " #   Column     Non-Null Count  Dtype  \n",
      "---  ------     --------------  -----  \n",
      " 0   Index      13947 non-null  object \n",
      " 1   Date       13947 non-null  object \n",
      " 2   Open       13947 non-null  float64\n",
      " 3   High       13947 non-null  float64\n",
      " 4   Low        13947 non-null  float64\n",
      " 5   Close      13947 non-null  float64\n",
      " 6   Adj Close  13947 non-null  float64\n",
      " 7   Volume     13947 non-null  float64\n",
      "dtypes: float64(6), object(2)\n",
      "memory usage: 980.6+ KB\n"
     ]
    }
   ],
   "source": [
    "stock_NYA_df = stock_NYA_df.dropna()\n",
    "stock_NYA_df.info()"
   ]
  },
  {
   "cell_type": "code",
   "execution_count": 5,
   "metadata": {},
   "outputs": [
    {
     "name": "stdout",
     "output_type": "stream",
     "text": [
      "<class 'pandas.core.frame.DataFrame'>\n",
      "Index: 13947 entries, 0 to 13947\n",
      "Data columns (total 8 columns):\n",
      " #   Column     Non-Null Count  Dtype         \n",
      "---  ------     --------------  -----         \n",
      " 0   Index      13947 non-null  object        \n",
      " 1   Date       13947 non-null  datetime64[ns]\n",
      " 2   Open       13947 non-null  float64       \n",
      " 3   High       13947 non-null  float64       \n",
      " 4   Low        13947 non-null  float64       \n",
      " 5   Close      13947 non-null  float64       \n",
      " 6   Adj Close  13947 non-null  float64       \n",
      " 7   Volume     13947 non-null  float64       \n",
      "dtypes: datetime64[ns](1), float64(6), object(1)\n",
      "memory usage: 980.6+ KB\n"
     ]
    },
    {
     "name": "stderr",
     "output_type": "stream",
     "text": [
      "/tmp/ipykernel_63039/3815177697.py:1: SettingWithCopyWarning: \n",
      "A value is trying to be set on a copy of a slice from a DataFrame.\n",
      "Try using .loc[row_indexer,col_indexer] = value instead\n",
      "\n",
      "See the caveats in the documentation: https://pandas.pydata.org/pandas-docs/stable/user_guide/indexing.html#returning-a-view-versus-a-copy\n",
      "  stock_NYA_df['Date'] = pd.to_datetime(stock_NYA_df['Date'])\n"
     ]
    }
   ],
   "source": [
    "stock_NYA_df['Date'] = pd.to_datetime(stock_NYA_df['Date'])\n",
    "stock_NYA_df.info()"
   ]
  },
  {
   "cell_type": "code",
   "execution_count": 6,
   "metadata": {},
   "outputs": [
    {
     "name": "stderr",
     "output_type": "stream",
     "text": [
      "/tmp/ipykernel_63039/761583660.py:1: SettingWithCopyWarning: \n",
      "A value is trying to be set on a copy of a slice from a DataFrame.\n",
      "Try using .loc[row_indexer,col_indexer] = value instead\n",
      "\n",
      "See the caveats in the documentation: https://pandas.pydata.org/pandas-docs/stable/user_guide/indexing.html#returning-a-view-versus-a-copy\n",
      "  stock_NYA_df['day_difference'] = stock_NYA_df['Date'].diff().dt.days\n"
     ]
    },
    {
     "data": {
      "text/html": [
       "<div>\n",
       "<style scoped>\n",
       "    .dataframe tbody tr th:only-of-type {\n",
       "        vertical-align: middle;\n",
       "    }\n",
       "\n",
       "    .dataframe tbody tr th {\n",
       "        vertical-align: top;\n",
       "    }\n",
       "\n",
       "    .dataframe thead th {\n",
       "        text-align: right;\n",
       "    }\n",
       "</style>\n",
       "<table border=\"1\" class=\"dataframe\">\n",
       "  <thead>\n",
       "    <tr style=\"text-align: right;\">\n",
       "      <th></th>\n",
       "      <th>Index</th>\n",
       "      <th>Date</th>\n",
       "      <th>Open</th>\n",
       "      <th>High</th>\n",
       "      <th>Low</th>\n",
       "      <th>Close</th>\n",
       "      <th>Adj Close</th>\n",
       "      <th>Volume</th>\n",
       "      <th>day_difference</th>\n",
       "    </tr>\n",
       "  </thead>\n",
       "  <tbody>\n",
       "    <tr>\n",
       "      <th>0</th>\n",
       "      <td>NYA</td>\n",
       "      <td>1965-12-31</td>\n",
       "      <td>528.690002</td>\n",
       "      <td>528.690002</td>\n",
       "      <td>528.690002</td>\n",
       "      <td>528.690002</td>\n",
       "      <td>528.690002</td>\n",
       "      <td>0.000000e+00</td>\n",
       "      <td>NaN</td>\n",
       "    </tr>\n",
       "    <tr>\n",
       "      <th>1</th>\n",
       "      <td>NYA</td>\n",
       "      <td>1966-01-03</td>\n",
       "      <td>527.210022</td>\n",
       "      <td>527.210022</td>\n",
       "      <td>527.210022</td>\n",
       "      <td>527.210022</td>\n",
       "      <td>527.210022</td>\n",
       "      <td>0.000000e+00</td>\n",
       "      <td>3.0</td>\n",
       "    </tr>\n",
       "    <tr>\n",
       "      <th>2</th>\n",
       "      <td>NYA</td>\n",
       "      <td>1966-01-04</td>\n",
       "      <td>527.840027</td>\n",
       "      <td>527.840027</td>\n",
       "      <td>527.840027</td>\n",
       "      <td>527.840027</td>\n",
       "      <td>527.840027</td>\n",
       "      <td>0.000000e+00</td>\n",
       "      <td>1.0</td>\n",
       "    </tr>\n",
       "    <tr>\n",
       "      <th>3</th>\n",
       "      <td>NYA</td>\n",
       "      <td>1966-01-05</td>\n",
       "      <td>531.119995</td>\n",
       "      <td>531.119995</td>\n",
       "      <td>531.119995</td>\n",
       "      <td>531.119995</td>\n",
       "      <td>531.119995</td>\n",
       "      <td>0.000000e+00</td>\n",
       "      <td>1.0</td>\n",
       "    </tr>\n",
       "    <tr>\n",
       "      <th>4</th>\n",
       "      <td>NYA</td>\n",
       "      <td>1966-01-06</td>\n",
       "      <td>532.070007</td>\n",
       "      <td>532.070007</td>\n",
       "      <td>532.070007</td>\n",
       "      <td>532.070007</td>\n",
       "      <td>532.070007</td>\n",
       "      <td>0.000000e+00</td>\n",
       "      <td>1.0</td>\n",
       "    </tr>\n",
       "    <tr>\n",
       "      <th>...</th>\n",
       "      <td>...</td>\n",
       "      <td>...</td>\n",
       "      <td>...</td>\n",
       "      <td>...</td>\n",
       "      <td>...</td>\n",
       "      <td>...</td>\n",
       "      <td>...</td>\n",
       "      <td>...</td>\n",
       "      <td>...</td>\n",
       "    </tr>\n",
       "    <tr>\n",
       "      <th>13943</th>\n",
       "      <td>NYA</td>\n",
       "      <td>2021-05-24</td>\n",
       "      <td>16375.000000</td>\n",
       "      <td>16508.519530</td>\n",
       "      <td>16375.000000</td>\n",
       "      <td>16464.689450</td>\n",
       "      <td>16464.689450</td>\n",
       "      <td>2.947400e+09</td>\n",
       "      <td>3.0</td>\n",
       "    </tr>\n",
       "    <tr>\n",
       "      <th>13944</th>\n",
       "      <td>NYA</td>\n",
       "      <td>2021-05-25</td>\n",
       "      <td>16464.689450</td>\n",
       "      <td>16525.810550</td>\n",
       "      <td>16375.150390</td>\n",
       "      <td>16390.189450</td>\n",
       "      <td>16390.189450</td>\n",
       "      <td>3.420870e+09</td>\n",
       "      <td>1.0</td>\n",
       "    </tr>\n",
       "    <tr>\n",
       "      <th>13945</th>\n",
       "      <td>NYA</td>\n",
       "      <td>2021-05-26</td>\n",
       "      <td>16390.189450</td>\n",
       "      <td>16466.339840</td>\n",
       "      <td>16388.320310</td>\n",
       "      <td>16451.960940</td>\n",
       "      <td>16451.960940</td>\n",
       "      <td>3.674490e+09</td>\n",
       "      <td>1.0</td>\n",
       "    </tr>\n",
       "    <tr>\n",
       "      <th>13946</th>\n",
       "      <td>NYA</td>\n",
       "      <td>2021-05-27</td>\n",
       "      <td>16451.960940</td>\n",
       "      <td>16546.359380</td>\n",
       "      <td>16451.960940</td>\n",
       "      <td>16531.949220</td>\n",
       "      <td>16531.949220</td>\n",
       "      <td>5.201110e+09</td>\n",
       "      <td>1.0</td>\n",
       "    </tr>\n",
       "    <tr>\n",
       "      <th>13947</th>\n",
       "      <td>NYA</td>\n",
       "      <td>2021-05-28</td>\n",
       "      <td>16531.949220</td>\n",
       "      <td>16588.689450</td>\n",
       "      <td>16531.949220</td>\n",
       "      <td>16555.660160</td>\n",
       "      <td>16555.660160</td>\n",
       "      <td>4.199270e+09</td>\n",
       "      <td>1.0</td>\n",
       "    </tr>\n",
       "  </tbody>\n",
       "</table>\n",
       "<p>13947 rows × 9 columns</p>\n",
       "</div>"
      ],
      "text/plain": [
       "      Index       Date          Open          High           Low  \\\n",
       "0       NYA 1965-12-31    528.690002    528.690002    528.690002   \n",
       "1       NYA 1966-01-03    527.210022    527.210022    527.210022   \n",
       "2       NYA 1966-01-04    527.840027    527.840027    527.840027   \n",
       "3       NYA 1966-01-05    531.119995    531.119995    531.119995   \n",
       "4       NYA 1966-01-06    532.070007    532.070007    532.070007   \n",
       "...     ...        ...           ...           ...           ...   \n",
       "13943   NYA 2021-05-24  16375.000000  16508.519530  16375.000000   \n",
       "13944   NYA 2021-05-25  16464.689450  16525.810550  16375.150390   \n",
       "13945   NYA 2021-05-26  16390.189450  16466.339840  16388.320310   \n",
       "13946   NYA 2021-05-27  16451.960940  16546.359380  16451.960940   \n",
       "13947   NYA 2021-05-28  16531.949220  16588.689450  16531.949220   \n",
       "\n",
       "              Close     Adj Close        Volume  day_difference  \n",
       "0        528.690002    528.690002  0.000000e+00             NaN  \n",
       "1        527.210022    527.210022  0.000000e+00             3.0  \n",
       "2        527.840027    527.840027  0.000000e+00             1.0  \n",
       "3        531.119995    531.119995  0.000000e+00             1.0  \n",
       "4        532.070007    532.070007  0.000000e+00             1.0  \n",
       "...             ...           ...           ...             ...  \n",
       "13943  16464.689450  16464.689450  2.947400e+09             3.0  \n",
       "13944  16390.189450  16390.189450  3.420870e+09             1.0  \n",
       "13945  16451.960940  16451.960940  3.674490e+09             1.0  \n",
       "13946  16531.949220  16531.949220  5.201110e+09             1.0  \n",
       "13947  16555.660160  16555.660160  4.199270e+09             1.0  \n",
       "\n",
       "[13947 rows x 9 columns]"
      ]
     },
     "execution_count": 6,
     "metadata": {},
     "output_type": "execute_result"
    }
   ],
   "source": [
    "stock_NYA_df['day_difference'] = stock_NYA_df['Date'].diff().dt.days\n",
    "stock_NYA_df"
   ]
  },
  {
   "cell_type": "code",
   "execution_count": 7,
   "metadata": {},
   "outputs": [
    {
     "data": {
      "text/plain": [
       "day_difference\n",
       "1.0    10889\n",
       "3.0     2556\n",
       "4.0      332\n",
       "2.0      165\n",
       "5.0        3\n",
       "7.0        1\n",
       "Name: count, dtype: int64"
      ]
     },
     "execution_count": 7,
     "metadata": {},
     "output_type": "execute_result"
    }
   ],
   "source": [
    "stock_NYA_df['day_difference'].value_counts()"
   ]
  },
  {
   "cell_type": "code",
   "execution_count": 8,
   "metadata": {},
   "outputs": [
    {
     "data": {
      "text/plain": [
       "array([  528.690002,   527.210022,   527.840027, ..., 16451.96094 ,\n",
       "       16531.94922 , 16555.66016 ])"
      ]
     },
     "execution_count": 8,
     "metadata": {},
     "output_type": "execute_result"
    }
   ],
   "source": [
    "data = stock_NYA_df['Adj Close'].to_numpy()\n",
    "data"
   ]
  },
  {
   "cell_type": "code",
   "execution_count": 9,
   "metadata": {},
   "outputs": [
    {
     "data": {
      "text/plain": [
       "(13947,)"
      ]
     },
     "execution_count": 9,
     "metadata": {},
     "output_type": "execute_result"
    }
   ],
   "source": [
    "data.shape"
   ]
  },
  {
   "cell_type": "code",
   "execution_count": 10,
   "metadata": {},
   "outputs": [
    {
     "data": {
      "text/plain": [
       "(13947, 1)"
      ]
     },
     "execution_count": 10,
     "metadata": {},
     "output_type": "execute_result"
    }
   ],
   "source": [
    "data = np.reshape(data, (len(data), 1))\n",
    "data.shape"
   ]
  },
  {
   "cell_type": "code",
   "execution_count": 11,
   "metadata": {},
   "outputs": [
    {
     "data": {
      "text/plain": [
       "array([[  528.690002],\n",
       "       [  527.210022],\n",
       "       [  527.840027],\n",
       "       ...,\n",
       "       [16451.96094 ],\n",
       "       [16531.94922 ],\n",
       "       [16555.66016 ]])"
      ]
     },
     "execution_count": 11,
     "metadata": {},
     "output_type": "execute_result"
    }
   ],
   "source": [
    "data"
   ]
  },
  {
   "cell_type": "code",
   "execution_count": 12,
   "metadata": {},
   "outputs": [
    {
     "data": {
      "text/plain": [
       "array([[0.01113857],\n",
       "       [0.01104745],\n",
       "       [0.01108624],\n",
       "       ...,\n",
       "       [0.991475  ],\n",
       "       [0.99639958],\n",
       "       [0.99785937]])"
      ]
     },
     "execution_count": 12,
     "metadata": {},
     "output_type": "execute_result"
    }
   ],
   "source": [
    "scaler = MinMaxScaler()\n",
    "scaled_data = scaler.fit_transform(data)\n",
    "scaled_data"
   ]
  },
  {
   "cell_type": "code",
   "execution_count": 13,
   "metadata": {},
   "outputs": [
    {
     "data": {
      "text/plain": [
       "[array([0.01113857, 0.01104745, 0.01108624, 0.01128818, 0.01134666,\n",
       "        0.01137929, 0.01145748, 0.01148334, 0.01142486, 0.01149012,\n",
       "        0.01155476, 0.01167851, 0.01176962, 0.01169143, 0.0115683 ,\n",
       "        0.01158739, 0.01169143, 0.01171791, 0.01168528, 0.01167235,\n",
       "        0.0115683 , 0.01142486, 0.01116443, 0.01130788, 0.01134666,\n",
       "        0.01155476, 0.01166558, 0.01163972, 0.01182811, 0.01173699,\n",
       "        0.01173084, 0.01169821, 0.01155476, 0.0115486 , 0.01137252,\n",
       "        0.01130788, 0.0111121 , 0.01096926, 0.0107544 , 0.01084551,\n",
       "        0.0108843 , 0.01047427, 0.01016213, 0.01029203, 0.01019414,\n",
       "        0.00976503, 0.00979704, 0.01005747, 0.01006424, 0.01003838,\n",
       "        0.00967391, 0.0094652 , 0.00963451, 0.0097324 , 0.009882  ,\n",
       "        0.01012273, 0.01021384, 0.0101098 , 0.01015536, 0.01023355]),\n",
       " array([0.01104745, 0.01108624, 0.01128818, 0.01134666, 0.01137929,\n",
       "        0.01145748, 0.01148334, 0.01142486, 0.01149012, 0.01155476,\n",
       "        0.01167851, 0.01176962, 0.01169143, 0.0115683 , 0.01158739,\n",
       "        0.01169143, 0.01171791, 0.01168528, 0.01167235, 0.0115683 ,\n",
       "        0.01142486, 0.01116443, 0.01130788, 0.01134666, 0.01155476,\n",
       "        0.01166558, 0.01163972, 0.01182811, 0.01173699, 0.01173084,\n",
       "        0.01169821, 0.01155476, 0.0115486 , 0.01137252, 0.01130788,\n",
       "        0.0111121 , 0.01096926, 0.0107544 , 0.01084551, 0.0108843 ,\n",
       "        0.01047427, 0.01016213, 0.01029203, 0.01019414, 0.00976503,\n",
       "        0.00979704, 0.01005747, 0.01006424, 0.01003838, 0.00967391,\n",
       "        0.0094652 , 0.00963451, 0.0097324 , 0.009882  , 0.01012273,\n",
       "        0.01021384, 0.0101098 , 0.01015536, 0.01023355, 0.01029203])]"
      ]
     },
     "execution_count": 13,
     "metadata": {},
     "output_type": "execute_result"
    }
   ],
   "source": [
    "window_size = 60\n",
    "\n",
    "X, y = [], []\n",
    "\n",
    "for i in range(window_size, len(scaled_data)):\n",
    "    X.append(scaled_data[i-window_size:i, 0])\n",
    "    y.append(scaled_data[i, 0])\n",
    "\n",
    "X[:2]"
   ]
  },
  {
   "cell_type": "code",
   "execution_count": 14,
   "metadata": {},
   "outputs": [
    {
     "data": {
      "text/plain": [
       "array([[0.01113857, 0.01104745, 0.01108624, 0.01128818, 0.01134666,\n",
       "        0.01137929, 0.01145748, 0.01148334, 0.01142486, 0.01149012,\n",
       "        0.01155476, 0.01167851, 0.01176962, 0.01169143, 0.0115683 ,\n",
       "        0.01158739, 0.01169143, 0.01171791, 0.01168528, 0.01167235,\n",
       "        0.0115683 , 0.01142486, 0.01116443, 0.01130788, 0.01134666,\n",
       "        0.01155476, 0.01166558, 0.01163972, 0.01182811, 0.01173699,\n",
       "        0.01173084, 0.01169821, 0.01155476, 0.0115486 , 0.01137252,\n",
       "        0.01130788, 0.0111121 , 0.01096926, 0.0107544 , 0.01084551,\n",
       "        0.0108843 , 0.01047427, 0.01016213, 0.01029203, 0.01019414,\n",
       "        0.00976503, 0.00979704, 0.01005747, 0.01006424, 0.01003838,\n",
       "        0.00967391, 0.0094652 , 0.00963451, 0.0097324 , 0.009882  ,\n",
       "        0.01012273, 0.01021384, 0.0101098 , 0.01015536, 0.01023355],\n",
       "       [0.01104745, 0.01108624, 0.01128818, 0.01134666, 0.01137929,\n",
       "        0.01145748, 0.01148334, 0.01142486, 0.01149012, 0.01155476,\n",
       "        0.01167851, 0.01176962, 0.01169143, 0.0115683 , 0.01158739,\n",
       "        0.01169143, 0.01171791, 0.01168528, 0.01167235, 0.0115683 ,\n",
       "        0.01142486, 0.01116443, 0.01130788, 0.01134666, 0.01155476,\n",
       "        0.01166558, 0.01163972, 0.01182811, 0.01173699, 0.01173084,\n",
       "        0.01169821, 0.01155476, 0.0115486 , 0.01137252, 0.01130788,\n",
       "        0.0111121 , 0.01096926, 0.0107544 , 0.01084551, 0.0108843 ,\n",
       "        0.01047427, 0.01016213, 0.01029203, 0.01019414, 0.00976503,\n",
       "        0.00979704, 0.01005747, 0.01006424, 0.01003838, 0.00967391,\n",
       "        0.0094652 , 0.00963451, 0.0097324 , 0.009882  , 0.01012273,\n",
       "        0.01021384, 0.0101098 , 0.01015536, 0.01023355, 0.01029203]])"
      ]
     },
     "execution_count": 14,
     "metadata": {},
     "output_type": "execute_result"
    }
   ],
   "source": [
    "X, y = np.array(X), np.array(y)\n",
    "X[:2]"
   ]
  },
  {
   "cell_type": "code",
   "execution_count": 15,
   "metadata": {},
   "outputs": [
    {
     "data": {
      "text/plain": [
       "(13887, 60)"
      ]
     },
     "execution_count": 15,
     "metadata": {},
     "output_type": "execute_result"
    }
   ],
   "source": [
    "X.shape"
   ]
  },
  {
   "cell_type": "code",
   "execution_count": 16,
   "metadata": {},
   "outputs": [],
   "source": [
    "test_split = 0.2\n",
    "split_index = int(len(y) * (1-test_split))\n",
    "X_train = X[:split_index]\n",
    "Y_train = y[:split_index]\n",
    "X_test = X[(split_index + window_size - 1):]\n",
    "Y_test = y[(split_index + window_size - 1):]\n",
    "\n",
    "indices = np.arange(len(Y_train))\n",
    "np.random.shuffle(indices)\n",
    "X_train = X_train[indices]\n",
    "Y_train = Y_train[indices]"
   ]
  },
  {
   "cell_type": "code",
   "execution_count": 17,
   "metadata": {},
   "outputs": [
    {
     "data": {
      "text/plain": [
       "array([[0.01333218, 0.01332541, 0.01320843, 0.01276577, 0.01247271,\n",
       "        0.01258353, 0.01250534, 0.01245978, 0.01254475, 0.01263586,\n",
       "        0.0121735 , 0.0115486 , 0.01127525, 0.01100805, 0.01101482,\n",
       "        0.01131403, 0.01130111, 0.01084551, 0.0105069 , 0.01068914,\n",
       "        0.0106368 , 0.01054569, 0.01051367, 0.01106038, 0.01129433,\n",
       "        0.01142486, 0.01107947, 0.01093663, 0.01036345, 0.00981059,\n",
       "        0.00953046, 0.0097324 , 0.00969299, 0.00979088, 0.01043548,\n",
       "        0.01040285, 0.01013566, 0.01005131, 0.01014243, 0.01018122,\n",
       "        0.01054569, 0.01002545, 0.00973855, 0.00974533, 0.00966036,\n",
       "        0.00943257, 0.00889879, 0.00876889, 0.00877504, 0.00847583,\n",
       "        0.00849553, 0.00891849, 0.00885323, 0.00836501, 0.00853432,\n",
       "        0.0084826 , 0.00906194, 0.00945227, 0.00953046, 0.01008394],\n",
       "       [0.33254282, 0.3333826 , 0.32983454, 0.31633304, 0.31197169,\n",
       "        0.29145227, 0.30143217, 0.30058563, 0.29749992, 0.29516963,\n",
       "        0.30967342, 0.30445261, 0.29612021, 0.30410107, 0.31072804,\n",
       "        0.31314329, 0.31583191, 0.30818967, 0.30899003, 0.30891863,\n",
       "        0.31098233, 0.3216259 , 0.3148813 , 0.31428905, 0.31581895,\n",
       "        0.3159815 , 0.30699159, 0.2977148 , 0.3028839 , 0.29916038,\n",
       "        0.29855454, 0.29410885, 0.28923895, 0.29542329, 0.2994922 ,\n",
       "        0.29896519, 0.30211556, 0.31479698, 0.31855988, 0.32068209,\n",
       "        0.32249153, 0.32322046, 0.32556428, 0.32349381, 0.32361141,\n",
       "        0.32215291, 0.32208149, 0.3277191 , 0.33230212, 0.33743797,\n",
       "        0.33780244, 0.33997695, 0.34455994, 0.34646113, 0.34258122,\n",
       "        0.3414613 , 0.33881828, 0.33829744, 0.34064742, 0.34332308]])"
      ]
     },
     "execution_count": 17,
     "metadata": {},
     "output_type": "execute_result"
    }
   ],
   "source": [
    "X_train[:2]"
   ]
  },
  {
   "cell_type": "markdown",
   "metadata": {},
   "source": [
    "### Creating a model"
   ]
  },
  {
   "cell_type": "code",
   "execution_count": 18,
   "metadata": {},
   "outputs": [
    {
     "name": "stderr",
     "output_type": "stream",
     "text": [
      "2023-12-20 17:36:39.913557: I external/local_xla/xla/stream_executor/cuda/cuda_diagnostics.cc:129] retrieving CUDA diagnostic information for host: rol3ert99-PC\n",
      "2023-12-20 17:36:39.913576: I external/local_xla/xla/stream_executor/cuda/cuda_diagnostics.cc:136] hostname: rol3ert99-PC\n",
      "2023-12-20 17:36:39.913644: I external/local_xla/xla/stream_executor/cuda/cuda_diagnostics.cc:159] libcuda reported version is: NOT_FOUND: was unable to find libcuda.so DSO loaded into this program\n",
      "2023-12-20 17:36:39.913673: I external/local_xla/xla/stream_executor/cuda/cuda_diagnostics.cc:163] kernel reported version is: 530.41.3\n"
     ]
    },
    {
     "name": "stdout",
     "output_type": "stream",
     "text": [
      "Model: \"sequential\"\n",
      "_________________________________________________________________\n",
      " Layer (type)                Output Shape              Param #   \n",
      "=================================================================\n",
      " lstm (LSTM)                 (None, 60, 50)            10400     \n",
      "                                                                 \n",
      " lstm_1 (LSTM)               (None, 50)                20200     \n",
      "                                                                 \n",
      " dense (Dense)               (None, 1)                 51        \n",
      "                                                                 \n",
      "=================================================================\n",
      "Total params: 30651 (119.73 KB)\n",
      "Trainable params: 30651 (119.73 KB)\n",
      "Non-trainable params: 0 (0.00 Byte)\n",
      "_________________________________________________________________\n"
     ]
    }
   ],
   "source": [
    "model_lstm = tf.keras.models.Sequential()\n",
    "model_lstm.add(tf.keras.layers.LSTM(units=50, return_sequences=True, input_shape=(X_train.shape[1], 1), recurrent_dropout=0.2))\n",
    "model_lstm.add(tf.keras.layers.LSTM(units=50))\n",
    "model_lstm.add(tf.keras.layers.Dense(units=1))\n",
    "\n",
    "# optimizer = tf.keras.optimizers.Adam(learning_rate=0.001, clipvalue=1.0)\n",
    "model_lstm.compile(optimizer='Adam', loss='mean_squared_error', metrics=['mae'])\n",
    "model_lstm.summary()"
   ]
  },
  {
   "cell_type": "markdown",
   "metadata": {},
   "source": [
    "### Traning a model"
   ]
  },
  {
   "cell_type": "code",
   "execution_count": 19,
   "metadata": {},
   "outputs": [
    {
     "name": "stdout",
     "output_type": "stream",
     "text": [
      "Epoch 1/30\n",
      "278/278 [==============================] - 16s 46ms/step - loss: 7.7970e-04 - mae: 0.0094 - val_loss: 4.5844e-05 - val_mae: 0.0034\n",
      "Epoch 2/30\n",
      "278/278 [==============================] - 12s 43ms/step - loss: 4.3770e-05 - mae: 0.0038 - val_loss: 4.3210e-05 - val_mae: 0.0032\n",
      "Epoch 3/30\n",
      "278/278 [==============================] - 12s 43ms/step - loss: 4.3048e-05 - mae: 0.0038 - val_loss: 4.1098e-05 - val_mae: 0.0031\n",
      "Epoch 4/30\n",
      "278/278 [==============================] - 12s 42ms/step - loss: 3.9538e-05 - mae: 0.0037 - val_loss: 3.6359e-05 - val_mae: 0.0033\n",
      "Epoch 5/30\n",
      "278/278 [==============================] - 12s 42ms/step - loss: 4.2871e-05 - mae: 0.0039 - val_loss: 5.8950e-05 - val_mae: 0.0046\n",
      "Epoch 6/30\n",
      "278/278 [==============================] - 12s 43ms/step - loss: 3.8752e-05 - mae: 0.0038 - val_loss: 3.3088e-05 - val_mae: 0.0033\n",
      "Epoch 7/30\n",
      "278/278 [==============================] - 12s 42ms/step - loss: 3.4589e-05 - mae: 0.0036 - val_loss: 3.3006e-05 - val_mae: 0.0032\n",
      "Epoch 8/30\n",
      "278/278 [==============================] - 12s 42ms/step - loss: 3.7120e-05 - mae: 0.0037 - val_loss: 2.9237e-05 - val_mae: 0.0031\n",
      "Epoch 9/30\n",
      "278/278 [==============================] - 12s 42ms/step - loss: 3.0226e-05 - mae: 0.0033 - val_loss: 5.9839e-05 - val_mae: 0.0050\n",
      "Epoch 10/30\n",
      "278/278 [==============================] - 12s 43ms/step - loss: 3.0498e-05 - mae: 0.0033 - val_loss: 8.4824e-05 - val_mae: 0.0066\n",
      "Epoch 11/30\n",
      "278/278 [==============================] - 12s 42ms/step - loss: 3.2149e-05 - mae: 0.0035 - val_loss: 2.9609e-05 - val_mae: 0.0033\n",
      "Epoch 12/30\n",
      "278/278 [==============================] - 12s 42ms/step - loss: 2.5072e-05 - mae: 0.0030 - val_loss: 2.3092e-05 - val_mae: 0.0030\n",
      "Epoch 13/30\n",
      "278/278 [==============================] - 12s 42ms/step - loss: 2.8131e-05 - mae: 0.0032 - val_loss: 2.3235e-05 - val_mae: 0.0027\n",
      "Epoch 14/30\n",
      "278/278 [==============================] - 12s 43ms/step - loss: 3.1819e-05 - mae: 0.0036 - val_loss: 2.1061e-05 - val_mae: 0.0028\n",
      "Epoch 15/30\n",
      "278/278 [==============================] - 12s 44ms/step - loss: 2.5242e-05 - mae: 0.0031 - val_loss: 3.9728e-05 - val_mae: 0.0051\n",
      "Epoch 16/30\n",
      "278/278 [==============================] - 12s 43ms/step - loss: 2.5191e-05 - mae: 0.0031 - val_loss: 2.1861e-05 - val_mae: 0.0030\n",
      "Epoch 17/30\n",
      "278/278 [==============================] - 12s 43ms/step - loss: 2.8833e-05 - mae: 0.0034 - val_loss: 3.0620e-05 - val_mae: 0.0039\n",
      "Epoch 18/30\n",
      "278/278 [==============================] - 12s 43ms/step - loss: 2.0977e-05 - mae: 0.0027 - val_loss: 2.4237e-05 - val_mae: 0.0035\n",
      "Epoch 19/30\n",
      "278/278 [==============================] - 12s 44ms/step - loss: 2.2832e-05 - mae: 0.0029 - val_loss: 1.5435e-05 - val_mae: 0.0022\n",
      "Epoch 20/30\n",
      "278/278 [==============================] - 12s 43ms/step - loss: 2.0476e-05 - mae: 0.0028 - val_loss: 2.3190e-05 - val_mae: 0.0025\n",
      "Epoch 21/30\n",
      "278/278 [==============================] - 12s 44ms/step - loss: 2.0427e-05 - mae: 0.0027 - val_loss: 1.4567e-05 - val_mae: 0.0022\n",
      "Epoch 22/30\n",
      "278/278 [==============================] - 12s 43ms/step - loss: 2.2733e-05 - mae: 0.0030 - val_loss: 1.4776e-05 - val_mae: 0.0023\n",
      "Epoch 23/30\n",
      "278/278 [==============================] - 12s 43ms/step - loss: 2.3868e-05 - mae: 0.0030 - val_loss: 2.7059e-05 - val_mae: 0.0030\n",
      "Epoch 24/30\n",
      "278/278 [==============================] - 12s 44ms/step - loss: 1.8118e-05 - mae: 0.0026 - val_loss: 1.9003e-05 - val_mae: 0.0022\n",
      "Epoch 25/30\n",
      "278/278 [==============================] - 12s 44ms/step - loss: 2.3303e-05 - mae: 0.0029 - val_loss: 1.3455e-05 - val_mae: 0.0023\n",
      "Epoch 26/30\n",
      "278/278 [==============================] - 12s 43ms/step - loss: 1.9554e-05 - mae: 0.0028 - val_loss: 1.5936e-05 - val_mae: 0.0021\n",
      "Epoch 27/30\n",
      "278/278 [==============================] - 12s 44ms/step - loss: 2.1249e-05 - mae: 0.0029 - val_loss: 1.3945e-05 - val_mae: 0.0025\n",
      "Epoch 28/30\n",
      "278/278 [==============================] - 12s 44ms/step - loss: 1.9801e-05 - mae: 0.0028 - val_loss: 2.0439e-05 - val_mae: 0.0033\n",
      "Epoch 29/30\n",
      "278/278 [==============================] - 12s 45ms/step - loss: 1.9682e-05 - mae: 0.0028 - val_loss: 1.3516e-05 - val_mae: 0.0023\n",
      "Epoch 30/30\n",
      "278/278 [==============================] - 13s 47ms/step - loss: 1.8575e-05 - mae: 0.0026 - val_loss: 1.1209e-05 - val_mae: 0.0018\n"
     ]
    },
    {
     "data": {
      "text/plain": [
       "<keras.src.callbacks.History at 0x7fe8166da4a0>"
      ]
     },
     "execution_count": 19,
     "metadata": {},
     "output_type": "execute_result"
    }
   ],
   "source": [
    "model_lstm.fit(X_train, Y_train, epochs=30, batch_size=32, validation_split=0.2)"
   ]
  },
  {
   "cell_type": "code",
   "execution_count": 20,
   "metadata": {},
   "outputs": [
    {
     "name": "stdout",
     "output_type": "stream",
     "text": [
      "85/85 [==============================] - 1s 14ms/step - loss: 9.5721e-05 - mae: 0.0074\n"
     ]
    },
    {
     "data": {
      "text/plain": [
       "[9.572075941832736e-05, 0.0073929703794419765]"
      ]
     },
     "execution_count": 20,
     "metadata": {},
     "output_type": "execute_result"
    }
   ],
   "source": [
    "model_lstm.evaluate(X_test, Y_test)"
   ]
  },
  {
   "cell_type": "code",
   "execution_count": 53,
   "metadata": {},
   "outputs": [
    {
     "name": "stdout",
     "output_type": "stream",
     "text": [
      "1/1 [==============================] - 0s 23ms/step\n",
      "1/1 [==============================] - 0s 22ms/step\n",
      "1/1 [==============================] - 0s 23ms/step\n",
      "1/1 [==============================] - 0s 26ms/step\n",
      "1/1 [==============================] - 0s 31ms/step\n",
      "1/1 [==============================] - 0s 25ms/step\n",
      "1/1 [==============================] - 0s 23ms/step\n",
      "1/1 [==============================] - 0s 23ms/step\n",
      "1/1 [==============================] - 0s 23ms/step\n",
      "1/1 [==============================] - 0s 22ms/step\n",
      "1/1 [==============================] - 0s 22ms/step\n",
      "1/1 [==============================] - 0s 24ms/step\n",
      "1/1 [==============================] - 0s 24ms/step\n",
      "1/1 [==============================] - 0s 23ms/step\n",
      "1/1 [==============================] - 0s 24ms/step\n",
      "1/1 [==============================] - 0s 25ms/step\n",
      "1/1 [==============================] - 0s 23ms/step\n",
      "1/1 [==============================] - 0s 26ms/step\n",
      "1/1 [==============================] - 0s 25ms/step\n",
      "1/1 [==============================] - 0s 29ms/step\n",
      "1/1 [==============================] - 0s 22ms/step\n",
      "1/1 [==============================] - 0s 22ms/step\n",
      "1/1 [==============================] - 0s 20ms/step\n",
      "1/1 [==============================] - 0s 21ms/step\n",
      "1/1 [==============================] - 0s 26ms/step\n",
      "1/1 [==============================] - 0s 26ms/step\n",
      "1/1 [==============================] - 0s 23ms/step\n",
      "1/1 [==============================] - 0s 23ms/step\n",
      "1/1 [==============================] - 0s 26ms/step\n",
      "1/1 [==============================] - 0s 24ms/step\n",
      "1/1 [==============================] - 0s 22ms/step\n",
      "1/1 [==============================] - 0s 24ms/step\n",
      "1/1 [==============================] - 0s 27ms/step\n",
      "1/1 [==============================] - 0s 25ms/step\n",
      "1/1 [==============================] - 0s 27ms/step\n",
      "1/1 [==============================] - 0s 22ms/step\n",
      "1/1 [==============================] - 0s 23ms/step\n",
      "1/1 [==============================] - 0s 23ms/step\n",
      "1/1 [==============================] - 0s 28ms/step\n",
      "1/1 [==============================] - 0s 24ms/step\n",
      "1/1 [==============================] - 0s 23ms/step\n",
      "1/1 [==============================] - 0s 24ms/step\n",
      "1/1 [==============================] - 0s 23ms/step\n",
      "1/1 [==============================] - 0s 24ms/step\n",
      "1/1 [==============================] - 0s 22ms/step\n",
      "1/1 [==============================] - 0s 23ms/step\n",
      "1/1 [==============================] - 0s 21ms/step\n",
      "1/1 [==============================] - 0s 20ms/step\n",
      "1/1 [==============================] - 0s 22ms/step\n",
      "1/1 [==============================] - 0s 23ms/step\n",
      "1/1 [==============================] - 0s 23ms/step\n",
      "1/1 [==============================] - 0s 22ms/step\n",
      "1/1 [==============================] - 0s 22ms/step\n",
      "1/1 [==============================] - 0s 23ms/step\n",
      "1/1 [==============================] - 0s 27ms/step\n",
      "1/1 [==============================] - 0s 22ms/step\n",
      "1/1 [==============================] - 0s 27ms/step\n",
      "1/1 [==============================] - 0s 24ms/step\n",
      "1/1 [==============================] - 0s 24ms/step\n",
      "1/1 [==============================] - 0s 25ms/step\n",
      "1/1 [==============================] - 0s 25ms/step\n",
      "1/1 [==============================] - 0s 27ms/step\n",
      "1/1 [==============================] - 0s 24ms/step\n",
      "1/1 [==============================] - 0s 27ms/step\n",
      "1/1 [==============================] - 0s 29ms/step\n",
      "1/1 [==============================] - 0s 25ms/step\n",
      "1/1 [==============================] - 0s 22ms/step\n",
      "1/1 [==============================] - 0s 22ms/step\n",
      "1/1 [==============================] - 0s 21ms/step\n",
      "1/1 [==============================] - 0s 23ms/step\n",
      "1/1 [==============================] - 0s 18ms/step\n",
      "1/1 [==============================] - 0s 26ms/step\n",
      "1/1 [==============================] - 0s 23ms/step\n",
      "1/1 [==============================] - 0s 31ms/step\n",
      "1/1 [==============================] - 0s 26ms/step\n",
      "1/1 [==============================] - 0s 24ms/step\n",
      "1/1 [==============================] - 0s 24ms/step\n",
      "1/1 [==============================] - 0s 25ms/step\n",
      "1/1 [==============================] - 0s 25ms/step\n",
      "1/1 [==============================] - 0s 25ms/step\n",
      "1/1 [==============================] - 0s 25ms/step\n",
      "1/1 [==============================] - 0s 23ms/step\n",
      "1/1 [==============================] - 0s 25ms/step\n",
      "1/1 [==============================] - 0s 24ms/step\n",
      "1/1 [==============================] - 0s 22ms/step\n",
      "1/1 [==============================] - 0s 23ms/step\n",
      "1/1 [==============================] - 0s 24ms/step\n",
      "1/1 [==============================] - 0s 25ms/step\n",
      "1/1 [==============================] - 0s 23ms/step\n",
      "1/1 [==============================] - 0s 20ms/step\n",
      "1/1 [==============================] - 0s 23ms/step\n",
      "1/1 [==============================] - 0s 22ms/step\n",
      "1/1 [==============================] - 0s 29ms/step\n",
      "1/1 [==============================] - 0s 24ms/step\n",
      "1/1 [==============================] - 0s 22ms/step\n",
      "1/1 [==============================] - 0s 22ms/step\n",
      "1/1 [==============================] - 0s 24ms/step\n",
      "1/1 [==============================] - 0s 22ms/step\n",
      "1/1 [==============================] - 0s 22ms/step\n",
      "1/1 [==============================] - 0s 22ms/step\n"
     ]
    },
    {
     "data": {
      "image/png": "[encoded data removed]",
      "text/plain": [
       "<Figure size 1500x600 with 1 Axes>"
      ]
     },
     "metadata": {},
     "output_type": "display_data"
    }
   ],
   "source": [
    "import matplotlib.pyplot as plt\n",
    "import numpy as np\n",
    "\n",
    "predictions = []\n",
    "num_predictions = 100\n",
    "\n",
    "current_window = X_test[0].reshape(1, -1, 1)\n",
    "\n",
    "for i in range(num_predictions):\n",
    "    predict_val = model_lstm.predict(current_window)\n",
    "    predictions.append(predict_val[0, 0])\n",
    "    current_window = np.concatenate((current_window[:, 1:, :], predict_val.reshape(1, 1, 1)), axis=1)\n",
    "\n",
    "y_test_actual = scaler.inverse_transform(np.array(Y_test).reshape(-1, 1))\n",
    "predictions_actual = scaler.inverse_transform(np.array(predictions).reshape(-1, 1))\n",
    "\n",
    "plt.figure(figsize=(15, 6))\n",
    "plt.plot(y_test_actual[:100], label='Actual', color='blue')\n",
    "plt.plot(predictions_actual, label='Predicted', color='red')\n",
    "plt.title('LSTM Model Prediction (One Sample at a Time)')\n",
    "plt.xlabel('Time')\n",
    "plt.ylabel('Value')\n",
    "plt.legend()\n",
    "plt.show()\n"
   ]
  }
 ],
 "metadata": {
  "kernelspec": {
   "display_name": "Python 3 (ipykernel)",
   "language": "python",
   "name": "python3"
  },
  "language_info": {
   "codemirror_mode": {
    "name": "ipython",
    "version": 3
   },
   "file_extension": ".py",
   "mimetype": "text/x-python",
   "name": "python",
   "nbconvert_exporter": "python",
   "pygments_lexer": "ipython3",
   "version": "3.10.5"
  }
 },
 "nbformat": 4,
 "nbformat_minor": 2
}
