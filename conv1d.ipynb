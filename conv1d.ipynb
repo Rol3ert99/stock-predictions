{
 "cells": [
  {
   "cell_type": "markdown",
   "id": "e697e28f",
   "metadata": {},
   "source": [
    "# Multivariate time series forecasting using 1D convolution  \n",
    "**Authors:** Konrad Maciejczyk (276927), Robert Walery (249000), Katarzyna Czak (254752)  \n",
    "Wrocław University of Science and Technology, 2023-2024  \n",
    "\n",
    "**Dataset:** [Stock Exchange Data](https://www.kaggle.com/code/alexisbcook/deep-reinforcement-learning)  "
   ]
  },
  {
   "cell_type": "code",
   "execution_count": 1,
   "id": "a621d328",
   "metadata": {},
   "outputs": [
    {
     "name": "stderr",
     "output_type": "stream",
     "text": [
      "2024-01-07 19:18:01.878340: I tensorflow/tsl/cuda/cudart_stub.cc:28] Could not find cuda drivers on your machine, GPU will not be used.\n",
      "2024-01-07 19:18:01.903908: I tensorflow/tsl/cuda/cudart_stub.cc:28] Could not find cuda drivers on your machine, GPU will not be used.\n",
      "2024-01-07 19:18:01.904592: I tensorflow/core/platform/cpu_feature_guard.cc:182] This TensorFlow binary is optimized to use available CPU instructions in performance-critical operations.\n",
      "To enable the following instructions: AVX2 FMA, in other operations, rebuild TensorFlow with the appropriate compiler flags.\n",
      "2024-01-07 19:18:02.403061: W tensorflow/compiler/tf2tensorrt/utils/py_utils.cc:38] TF-TRT Warning: Could not find TensorRT\n"
     ]
    }
   ],
   "source": [
    "import pandas as pd\n",
    "import numpy as np\n",
    "import tensorflow as tf\n",
    "import matplotlib.pyplot as plt\n",
    "from sklearn.preprocessing import MinMaxScaler\n",
    "from sklearn.metrics import mean_squared_error"
   ]
  },
  {
   "cell_type": "markdown",
   "id": "7bbee821",
   "metadata": {},
   "source": [
    "## Data loading and preprocessing"
   ]
  },
  {
   "cell_type": "code",
   "execution_count": 2,
   "id": "f886dfae",
   "metadata": {},
   "outputs": [
    {
     "data": {
      "text/html": [
       "<div>\n",
       "<style scoped>\n",
       "    .dataframe tbody tr th:only-of-type {\n",
       "        vertical-align: middle;\n",
       "    }\n",
       "\n",
       "    .dataframe tbody tr th {\n",
       "        vertical-align: top;\n",
       "    }\n",
       "\n",
       "    .dataframe thead th {\n",
       "        text-align: right;\n",
       "    }\n",
       "</style>\n",
       "<table border=\"1\" class=\"dataframe\">\n",
       "  <thead>\n",
       "    <tr style=\"text-align: right;\">\n",
       "      <th></th>\n",
       "      <th>Open</th>\n",
       "      <th>High</th>\n",
       "      <th>Low</th>\n",
       "      <th>Close</th>\n",
       "      <th>Adj Close</th>\n",
       "    </tr>\n",
       "  </thead>\n",
       "  <tbody>\n",
       "    <tr>\n",
       "      <th>0</th>\n",
       "      <td>528.690002</td>\n",
       "      <td>528.690002</td>\n",
       "      <td>528.690002</td>\n",
       "      <td>528.690002</td>\n",
       "      <td>528.690002</td>\n",
       "    </tr>\n",
       "    <tr>\n",
       "      <th>1</th>\n",
       "      <td>527.210022</td>\n",
       "      <td>527.210022</td>\n",
       "      <td>527.210022</td>\n",
       "      <td>527.210022</td>\n",
       "      <td>527.210022</td>\n",
       "    </tr>\n",
       "    <tr>\n",
       "      <th>2</th>\n",
       "      <td>527.840027</td>\n",
       "      <td>527.840027</td>\n",
       "      <td>527.840027</td>\n",
       "      <td>527.840027</td>\n",
       "      <td>527.840027</td>\n",
       "    </tr>\n",
       "    <tr>\n",
       "      <th>3</th>\n",
       "      <td>531.119995</td>\n",
       "      <td>531.119995</td>\n",
       "      <td>531.119995</td>\n",
       "      <td>531.119995</td>\n",
       "      <td>531.119995</td>\n",
       "    </tr>\n",
       "    <tr>\n",
       "      <th>4</th>\n",
       "      <td>532.070007</td>\n",
       "      <td>532.070007</td>\n",
       "      <td>532.070007</td>\n",
       "      <td>532.070007</td>\n",
       "      <td>532.070007</td>\n",
       "    </tr>\n",
       "    <tr>\n",
       "      <th>...</th>\n",
       "      <td>...</td>\n",
       "      <td>...</td>\n",
       "      <td>...</td>\n",
       "      <td>...</td>\n",
       "      <td>...</td>\n",
       "    </tr>\n",
       "    <tr>\n",
       "      <th>13943</th>\n",
       "      <td>16375.000000</td>\n",
       "      <td>16508.519530</td>\n",
       "      <td>16375.000000</td>\n",
       "      <td>16464.689450</td>\n",
       "      <td>16464.689450</td>\n",
       "    </tr>\n",
       "    <tr>\n",
       "      <th>13944</th>\n",
       "      <td>16464.689450</td>\n",
       "      <td>16525.810550</td>\n",
       "      <td>16375.150390</td>\n",
       "      <td>16390.189450</td>\n",
       "      <td>16390.189450</td>\n",
       "    </tr>\n",
       "    <tr>\n",
       "      <th>13945</th>\n",
       "      <td>16390.189450</td>\n",
       "      <td>16466.339840</td>\n",
       "      <td>16388.320310</td>\n",
       "      <td>16451.960940</td>\n",
       "      <td>16451.960940</td>\n",
       "    </tr>\n",
       "    <tr>\n",
       "      <th>13946</th>\n",
       "      <td>16451.960940</td>\n",
       "      <td>16546.359380</td>\n",
       "      <td>16451.960940</td>\n",
       "      <td>16531.949220</td>\n",
       "      <td>16531.949220</td>\n",
       "    </tr>\n",
       "    <tr>\n",
       "      <th>13947</th>\n",
       "      <td>16531.949220</td>\n",
       "      <td>16588.689450</td>\n",
       "      <td>16531.949220</td>\n",
       "      <td>16555.660160</td>\n",
       "      <td>16555.660160</td>\n",
       "    </tr>\n",
       "  </tbody>\n",
       "</table>\n",
       "<p>13947 rows × 5 columns</p>\n",
       "</div>"
      ],
      "text/plain": [
       "               Open          High           Low         Close     Adj Close\n",
       "0        528.690002    528.690002    528.690002    528.690002    528.690002\n",
       "1        527.210022    527.210022    527.210022    527.210022    527.210022\n",
       "2        527.840027    527.840027    527.840027    527.840027    527.840027\n",
       "3        531.119995    531.119995    531.119995    531.119995    531.119995\n",
       "4        532.070007    532.070007    532.070007    532.070007    532.070007\n",
       "...             ...           ...           ...           ...           ...\n",
       "13943  16375.000000  16508.519530  16375.000000  16464.689450  16464.689450\n",
       "13944  16464.689450  16525.810550  16375.150390  16390.189450  16390.189450\n",
       "13945  16390.189450  16466.339840  16388.320310  16451.960940  16451.960940\n",
       "13946  16451.960940  16546.359380  16451.960940  16531.949220  16531.949220\n",
       "13947  16531.949220  16588.689450  16531.949220  16555.660160  16555.660160\n",
       "\n",
       "[13947 rows x 5 columns]"
      ]
     },
     "execution_count": 2,
     "metadata": {},
     "output_type": "execute_result"
    }
   ],
   "source": [
    "stock_df = pd.read_csv('indexData.csv')\n",
    "stock_NYA_df = stock_df[stock_df['Index'] == 'NYA'].dropna()\n",
    "stock_NYA_df.drop(['Index', 'Date', 'Volume'], axis='columns', inplace=True)\n",
    "stock_NYA_df\n",
    "\n",
    "stock_NYA_df = stock_NYA_df\n",
    "stock_NYA_df"
   ]
  },
  {
   "cell_type": "code",
   "execution_count": 3,
   "id": "ebf76591",
   "metadata": {},
   "outputs": [],
   "source": [
    "WINDOW_SIZE = 5\n",
    "FEATURE_SIZE = stock_NYA_df.shape[1]\n",
    "\n",
    "def df_to_X_y(df, window_size = 6):\n",
    "    df_as_np = df.to_numpy()\n",
    "    X = []\n",
    "    y = []\n",
    "    for i in range(len(df_as_np) - window_size):\n",
    "        row = [r for r in df_as_np[i:i + window_size]]\n",
    "        X.append(row)\n",
    "        label = df_as_np[i + window_size][0]\n",
    "        y.append(label)\n",
    "    return np.array(X), np.array(y)"
   ]
  },
  {
   "cell_type": "code",
   "execution_count": 4,
   "id": "3b6787ac",
   "metadata": {},
   "outputs": [
    {
     "data": {
      "text/plain": [
       "((13942, 5, 5), (13942,))"
      ]
     },
     "execution_count": 4,
     "metadata": {},
     "output_type": "execute_result"
    }
   ],
   "source": [
    "X, y = df_to_X_y(stock_NYA_df, window_size = WINDOW_SIZE)\n",
    "X.shape, y.shape"
   ]
  },
  {
   "cell_type": "markdown",
   "id": "f8733d09",
   "metadata": {},
   "source": [
    "## Splitting data into training, validating and testing datasets"
   ]
  },
  {
   "cell_type": "code",
   "execution_count": 5,
   "id": "c764c4c1",
   "metadata": {},
   "outputs": [
    {
     "name": "stdout",
     "output_type": "stream",
     "text": [
      "Training dataset size: (8368, 5, 5)\n",
      "Testing dataset size: (2785, 5, 5)\n",
      "Validation dataset size: (2789, 5, 5)\n"
     ]
    }
   ],
   "source": [
    "train_len = int(stock_NYA_df.shape[0] * 0.6)\n",
    "test_val_len = int(stock_NYA_df.shape[0] * 0.2)\n",
    "\n",
    "X_train, y_train = X[:train_len], y[:train_len]\n",
    "X_val, y_val = X[train_len: train_len + test_val_len], y[train_len: train_len + test_val_len]\n",
    "X_test, y_test = X[train_len + test_val_len: train_len + (test_val_len * 2)], y[train_len + test_val_len: train_len + (test_val_len * 2)]\n",
    "\n",
    "print(f'Training dataset size: {X_train.shape}')\n",
    "print(f'Testing dataset size: {X_test.shape}')\n",
    "print(f'Validation dataset size: {X_val.shape}')"
   ]
  },
  {
   "cell_type": "code",
   "execution_count": 8,
   "id": "6d0b050c",
   "metadata": {},
   "outputs": [
    {
     "data": {
      "image/png": "[encoded data removed]",
      "text/plain": [
       "<Figure size 640x480 with 1 Axes>"
      ]
     },
     "metadata": {},
     "output_type": "display_data"
    }
   ],
   "source": [
    "a = y_train.shape[0]\n",
    "plt.plot([_ for _ in range(a)], y_train, label = 'y_train')\n",
    "a, b= y_train.shape[0], y_train.shape[0] + y_val.shape[0]\n",
    "plt.plot([_ for _ in range(a, b)], y_val, label = 'y_val')\n",
    "a, b = y_train.shape[0] + y_val.shape[0], y_train.shape[0] + y_val.shape[0] + y_test.shape[0]\n",
    "plt.plot([_ for _ in range(a, b)], y_test, label = 'y_test')\n",
    "plt.legend()\n",
    "plt.show()"
   ]
  },
  {
   "cell_type": "markdown",
   "id": "41e2d550",
   "metadata": {},
   "source": [
    "## Model architecture  "
   ]
  },
  {
   "cell_type": "code",
   "execution_count": 9,
   "id": "cd45be0e",
   "metadata": {},
   "outputs": [
    {
     "name": "stdout",
     "output_type": "stream",
     "text": [
      "Model: \"sequential\"\n",
      "_________________________________________________________________\n",
      " Layer (type)                Output Shape              Param #   \n",
      "=================================================================\n",
      " conv1d (Conv1D)             (None, 4, 64)             704       \n",
      "                                                                 \n",
      " flatten (Flatten)           (None, 256)               0         \n",
      "                                                                 \n",
      " dense (Dense)               (None, 8)                 2056      \n",
      "                                                                 \n",
      " dense_1 (Dense)             (None, 1)                 9         \n",
      "                                                                 \n",
      "=================================================================\n",
      "Total params: 2,769\n",
      "Trainable params: 2,769\n",
      "Non-trainable params: 0\n",
      "_________________________________________________________________\n"
     ]
    },
    {
     "name": "stderr",
     "output_type": "stream",
     "text": [
      "2024-01-07 19:19:36.514893: I tensorflow/compiler/xla/stream_executor/cuda/cuda_gpu_executor.cc:982] could not open file to read NUMA node: /sys/bus/pci/devices/0000:01:00.0/numa_node\n",
      "Your kernel may have been built without NUMA support.\n",
      "2024-01-07 19:19:36.515197: W tensorflow/core/common_runtime/gpu/gpu_device.cc:1956] Cannot dlopen some GPU libraries. Please make sure the missing libraries mentioned above are installed properly if you would like to use GPU. Follow the guide at https://www.tensorflow.org/install/gpu for how to download and setup the required libraries for your platform.\n",
      "Skipping registering GPU devices...\n"
     ]
    }
   ],
   "source": [
    "model = tf.keras.Sequential()\n",
    "model.add(tf.keras.layers.InputLayer((WINDOW_SIZE, FEATURE_SIZE)))\n",
    "model.add(tf.keras.layers.Conv1D(64, kernel_size=2))\n",
    "model.add(tf.keras.layers.Flatten())\n",
    "model.add(tf.keras.layers.Dense(8, 'relu'))\n",
    "model.add(tf.keras.layers.Dense(1, 'linear'))\n",
    "\n",
    "model.summary()"
   ]
  },
  {
   "cell_type": "code",
   "execution_count": 10,
   "id": "0c2225d3",
   "metadata": {},
   "outputs": [],
   "source": [
    "model.compile(loss='mean_squared_error', optimizer=tf.keras.optimizers.Adam(learning_rate=0.0001), metrics=['mse'])"
   ]
  },
  {
   "cell_type": "code",
   "execution_count": 11,
   "id": "147b2a50",
   "metadata": {},
   "outputs": [
    {
     "data": {
      "text/plain": [
       "(8368, 5, 5)"
      ]
     },
     "execution_count": 11,
     "metadata": {},
     "output_type": "execute_result"
    }
   ],
   "source": [
    "X_val.shape\n",
    "X_train.shape"
   ]
  },
  {
   "cell_type": "code",
   "execution_count": 12,
   "id": "c0c0c640",
   "metadata": {},
   "outputs": [
    {
     "name": "stdout",
     "output_type": "stream",
     "text": [
      "Epoch 1/10\n",
      "262/262 [==============================] - 1s 2ms/step - loss: 42808.5469 - mse: 42808.5469 - val_loss: 9455.2754 - val_mse: 9455.2754\n",
      "Epoch 2/10\n",
      "262/262 [==============================] - 0s 1ms/step - loss: 891.6106 - mse: 891.6106 - val_loss: 9495.5996 - val_mse: 9495.5996\n",
      "Epoch 3/10\n",
      "262/262 [==============================] - 0s 1ms/step - loss: 890.2634 - mse: 890.2634 - val_loss: 9596.1436 - val_mse: 9596.1436\n",
      "Epoch 4/10\n",
      "262/262 [==============================] - 0s 1ms/step - loss: 892.0753 - mse: 892.0753 - val_loss: 9300.3711 - val_mse: 9300.3711\n",
      "Epoch 5/10\n",
      "262/262 [==============================] - 0s 1ms/step - loss: 872.3644 - mse: 872.3644 - val_loss: 9052.5732 - val_mse: 9052.5732\n",
      "Epoch 6/10\n",
      "262/262 [==============================] - 0s 1ms/step - loss: 871.8267 - mse: 871.8267 - val_loss: 9286.4629 - val_mse: 9286.4629\n",
      "Epoch 7/10\n",
      "262/262 [==============================] - 0s 1ms/step - loss: 881.1154 - mse: 881.1154 - val_loss: 9135.2559 - val_mse: 9135.2559\n",
      "Epoch 8/10\n",
      "262/262 [==============================] - 0s 1ms/step - loss: 874.4948 - mse: 874.4948 - val_loss: 8814.9219 - val_mse: 8814.9219\n",
      "Epoch 9/10\n",
      "262/262 [==============================] - 0s 1ms/step - loss: 835.3207 - mse: 835.3207 - val_loss: 10306.6865 - val_mse: 10306.6865\n",
      "Epoch 10/10\n",
      "262/262 [==============================] - 0s 1ms/step - loss: 876.8165 - mse: 876.8165 - val_loss: 10303.5137 - val_mse: 10303.5137\n"
     ]
    }
   ],
   "source": [
    "history = model.fit(X_train, y_train, validation_data=(X_val, y_val), epochs=10)"
   ]
  },
  {
   "cell_type": "code",
   "execution_count": null,
   "id": "416c3321",
   "metadata": {},
   "outputs": [],
   "source": []
  }
 ],
 "metadata": {
  "kernelspec": {
   "display_name": "Python 3 (ipykernel)",
   "language": "python",
   "name": "python3"
  },
  "language_info": {
   "codemirror_mode": {
    "name": "ipython",
    "version": 3
   },
   "file_extension": ".py",
   "mimetype": "text/x-python",
   "name": "python",
   "nbconvert_exporter": "python",
   "pygments_lexer": "ipython3",
   "version": "3.10.6"
  }
 },
 "nbformat": 4,
 "nbformat_minor": 5
}
