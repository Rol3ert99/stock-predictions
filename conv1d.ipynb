{
 "cells": [
  {
   "cell_type": "code",
   "execution_count": 1,
   "id": "f82058ba",
   "metadata": {},
   "outputs": [
    {
     "name": "stderr",
     "output_type": "stream",
     "text": [
      "2023-12-06 21:58:04.669344: I tensorflow/tsl/cuda/cudart_stub.cc:28] Could not find cuda drivers on your machine, GPU will not be used.\n",
      "2023-12-06 21:58:04.695972: I tensorflow/tsl/cuda/cudart_stub.cc:28] Could not find cuda drivers on your machine, GPU will not be used.\n",
      "2023-12-06 21:58:04.696938: I tensorflow/core/platform/cpu_feature_guard.cc:182] This TensorFlow binary is optimized to use available CPU instructions in performance-critical operations.\n",
      "To enable the following instructions: AVX2 FMA, in other operations, rebuild TensorFlow with the appropriate compiler flags.\n",
      "2023-12-06 21:58:05.193377: W tensorflow/compiler/tf2tensorrt/utils/py_utils.cc:38] TF-TRT Warning: Could not find TensorRT\n"
     ]
    }
   ],
   "source": [
    "import pandas as pd\n",
    "import numpy as np\n",
    "from tensorflow.keras.models import Sequential\n",
    "from tensorflow.keras.layers import *\n",
    "from tensorflow.keras.callbacks import ModelCheckpoint\n",
    "from tensorflow.keras.losses import MeanSquaredError\n",
    "from tensorflow.keras.metrics import RootMeanSquaredError\n",
    "from tensorflow.keras.optimizers import Adam\n",
    "from sklearn.preprocessing import MinMaxScaler\n",
    "from sklearn.model_selection import train_test_split\n",
    "\n",
    "stock_df = pd.read_csv('indexData.csv')"
   ]
  },
  {
   "cell_type": "code",
   "execution_count": 2,
   "id": "3882f995",
   "metadata": {},
   "outputs": [],
   "source": [
    "stock_NYA_df = stock_df[stock_df['Index'] == 'NYA']\n",
    "stock_NYA_df = stock_NYA_df.dropna()\n",
    "stock_NYA_df['Date'] = pd.to_datetime(stock_NYA_df['Date'])\n",
    "stock_NYA_df['day_difference'] = stock_NYA_df['Date'].diff().dt.days"
   ]
  },
  {
   "cell_type": "code",
   "execution_count": 3,
   "id": "00901688",
   "metadata": {},
   "outputs": [],
   "source": [
    "data = stock_NYA_df['Adj Close'].to_numpy()\n",
    "data = np.reshape(data, (len(data), 1))"
   ]
  },
  {
   "cell_type": "code",
   "execution_count": 4,
   "id": "d558a1e3",
   "metadata": {},
   "outputs": [],
   "source": [
    "scaler = MinMaxScaler()\n",
    "scaled_data = scaler.fit_transform(data)"
   ]
  },
  {
   "cell_type": "code",
   "execution_count": 5,
   "id": "2701a3ec",
   "metadata": {
    "scrolled": false
   },
   "outputs": [],
   "source": [
    "window_size = 60\n",
    "\n",
    "X, y = [], []\n",
    "\n",
    "for i in range(window_size, len(scaled_data)):\n",
    "    X.append(scaled_data[i-window_size:i, 0])\n",
    "    y.append(scaled_data[i, 0])"
   ]
  },
  {
   "cell_type": "code",
   "execution_count": 6,
   "id": "c2234da5",
   "metadata": {},
   "outputs": [],
   "source": [
    "X, y = np.array(X), np.array(y)\n",
    "test_split = 0.2\n",
    "split_index = int(len(y) * (1-test_split))\n",
    "X_train = X[:split_index]\n",
    "Y_train = y[:split_index]\n",
    "X_test = X[(split_index + window_size - 1):]\n",
    "Y_test = y[(split_index + window_size - 1):]\n",
    "\n",
    "indices = np.arange(len(Y_train))\n",
    "np.random.shuffle(indices)\n",
    "X_train = X_train[indices]\n",
    "Y_train = Y_train[indices]"
   ]
  },
  {
   "cell_type": "code",
   "execution_count": 7,
   "id": "03074b51",
   "metadata": {},
   "outputs": [
    {
     "name": "stdout",
     "output_type": "stream",
     "text": [
      "Model: \"sequential\"\n",
      "_________________________________________________________________\n",
      " Layer (type)                Output Shape              Param #   \n",
      "=================================================================\n",
      " conv1d (Conv1D)             (None, 58, 32)            128       \n",
      "                                                                 \n",
      " max_pooling1d (MaxPooling1D  (None, 29, 32)           0         \n",
      " )                                                               \n",
      "                                                                 \n",
      " flatten (Flatten)           (None, 928)               0         \n",
      "                                                                 \n",
      " dense (Dense)               (None, 64)                59456     \n",
      "                                                                 \n",
      "=================================================================\n",
      "Total params: 59,584\n",
      "Trainable params: 59,584\n",
      "Non-trainable params: 0\n",
      "_________________________________________________________________\n"
     ]
    },
    {
     "name": "stderr",
     "output_type": "stream",
     "text": [
      "2023-12-06 21:58:10.626522: I tensorflow/compiler/xla/stream_executor/cuda/cuda_gpu_executor.cc:982] could not open file to read NUMA node: /sys/bus/pci/devices/0000:01:00.0/numa_node\n",
      "Your kernel may have been built without NUMA support.\n",
      "2023-12-06 21:58:10.626816: W tensorflow/core/common_runtime/gpu/gpu_device.cc:1956] Cannot dlopen some GPU libraries. Please make sure the missing libraries mentioned above are installed properly if you would like to use GPU. Follow the guide at https://www.tensorflow.org/install/gpu for how to download and setup the required libraries for your platform.\n",
      "Skipping registering GPU devices...\n"
     ]
    }
   ],
   "source": [
    "model_1d_conv = Sequential()\n",
    "model_1d_conv.add(Conv1D(filters=32, kernel_size=3, activation='relu', input_shape=(X_train.shape[1], 1)))\n",
    "model_1d_conv.add(MaxPooling1D(pool_size=2))\n",
    "model_1d_conv.add(Flatten())\n",
    "model_1d_conv.add(Dense(64, activation='relu'))\n",
    "\n",
    "\n",
    "model_1d_conv.summary()"
   ]
  },
  {
   "cell_type": "code",
   "execution_count": 8,
   "id": "e1a3639e",
   "metadata": {},
   "outputs": [
    {
     "name": "stderr",
     "output_type": "stream",
     "text": [
      "WARNING:absl:`lr` is deprecated in Keras optimizer, please use `learning_rate` or use the legacy optimizer, e.g.,tf.keras.optimizers.legacy.Adam.\n"
     ]
    }
   ],
   "source": [
    "optimizer = Adam(lr=0.001)\n",
    "model_1d_conv.compile(optimizer=optimizer, loss='mse')  # Use appropriate loss for your task"
   ]
  },
  {
   "cell_type": "code",
   "execution_count": 9,
   "id": "97c7920d",
   "metadata": {},
   "outputs": [
    {
     "name": "stdout",
     "output_type": "stream",
     "text": [
      "Epoch 1/50\n",
      "348/348 [==============================] - 1s 2ms/step - loss: 0.0294 - val_loss: 0.0223\n",
      "Epoch 2/50\n",
      "348/348 [==============================] - 1s 2ms/step - loss: 0.0201 - val_loss: 0.0203\n",
      "Epoch 3/50\n",
      "348/348 [==============================] - 1s 2ms/step - loss: 0.0201 - val_loss: 0.0204\n",
      "Epoch 4/50\n",
      "348/348 [==============================] - 1s 2ms/step - loss: 0.0200 - val_loss: 0.0202\n",
      "Epoch 5/50\n",
      "348/348 [==============================] - 1s 2ms/step - loss: 0.0200 - val_loss: 0.0202\n",
      "Epoch 6/50\n",
      "348/348 [==============================] - 1s 2ms/step - loss: 0.0200 - val_loss: 0.0202\n",
      "Epoch 7/50\n",
      "348/348 [==============================] - 1s 2ms/step - loss: 0.0172 - val_loss: 0.0141\n",
      "Epoch 8/50\n",
      "348/348 [==============================] - 1s 2ms/step - loss: 0.0140 - val_loss: 0.0141\n",
      "Epoch 9/50\n",
      "348/348 [==============================] - 1s 2ms/step - loss: 0.0140 - val_loss: 0.0142\n",
      "Epoch 10/50\n",
      "348/348 [==============================] - 1s 2ms/step - loss: 0.0124 - val_loss: 0.0121\n",
      "Epoch 11/50\n",
      "348/348 [==============================] - 1s 2ms/step - loss: 0.0120 - val_loss: 0.0121\n",
      "Epoch 12/50\n",
      "348/348 [==============================] - 1s 2ms/step - loss: 0.0120 - val_loss: 0.0121\n",
      "Epoch 13/50\n",
      "348/348 [==============================] - 1s 2ms/step - loss: 0.0120 - val_loss: 0.0121\n",
      "Epoch 14/50\n",
      "348/348 [==============================] - 1s 2ms/step - loss: 0.0120 - val_loss: 0.0121\n",
      "Epoch 15/50\n",
      "348/348 [==============================] - 1s 2ms/step - loss: 0.0120 - val_loss: 0.0121\n",
      "Epoch 16/50\n",
      "348/348 [==============================] - 1s 2ms/step - loss: 0.0120 - val_loss: 0.0121\n",
      "Epoch 17/50\n",
      "348/348 [==============================] - 1s 2ms/step - loss: 0.0120 - val_loss: 0.0121\n",
      "Epoch 18/50\n",
      "348/348 [==============================] - 1s 2ms/step - loss: 0.0120 - val_loss: 0.0121\n",
      "Epoch 19/50\n",
      "348/348 [==============================] - 1s 2ms/step - loss: 0.0120 - val_loss: 0.0121\n",
      "Epoch 20/50\n",
      "348/348 [==============================] - 1s 2ms/step - loss: 0.0120 - val_loss: 0.0121\n",
      "Epoch 21/50\n",
      "348/348 [==============================] - 1s 2ms/step - loss: 0.0120 - val_loss: 0.0121\n",
      "Epoch 22/50\n",
      "348/348 [==============================] - 1s 2ms/step - loss: 0.0120 - val_loss: 0.0121\n",
      "Epoch 23/50\n",
      "348/348 [==============================] - 1s 2ms/step - loss: 0.0120 - val_loss: 0.0121\n",
      "Epoch 24/50\n",
      "348/348 [==============================] - 1s 2ms/step - loss: 0.0120 - val_loss: 0.0120\n",
      "Epoch 25/50\n",
      "348/348 [==============================] - 1s 2ms/step - loss: 0.0120 - val_loss: 0.0121\n",
      "Epoch 26/50\n",
      "348/348 [==============================] - 1s 2ms/step - loss: 0.0120 - val_loss: 0.0121\n",
      "Epoch 27/50\n",
      "348/348 [==============================] - 1s 2ms/step - loss: 0.0120 - val_loss: 0.0120\n",
      "Epoch 28/50\n",
      "348/348 [==============================] - 1s 2ms/step - loss: 0.0120 - val_loss: 0.0120\n",
      "Epoch 29/50\n",
      "348/348 [==============================] - 1s 2ms/step - loss: 0.0119 - val_loss: 0.0121\n",
      "Epoch 30/50\n",
      "348/348 [==============================] - 1s 2ms/step - loss: 0.0120 - val_loss: 0.0121\n",
      "Epoch 31/50\n",
      "348/348 [==============================] - 1s 2ms/step - loss: 0.0120 - val_loss: 0.0120\n",
      "Epoch 32/50\n",
      "348/348 [==============================] - 1s 2ms/step - loss: 0.0119 - val_loss: 0.0120\n",
      "Epoch 33/50\n",
      "348/348 [==============================] - 1s 2ms/step - loss: 0.0119 - val_loss: 0.0120\n",
      "Epoch 34/50\n",
      "348/348 [==============================] - 1s 2ms/step - loss: 0.0119 - val_loss: 0.0120\n",
      "Epoch 35/50\n",
      "348/348 [==============================] - 1s 2ms/step - loss: 0.0119 - val_loss: 0.0120\n",
      "Epoch 36/50\n",
      "348/348 [==============================] - 1s 2ms/step - loss: 0.0120 - val_loss: 0.0121\n",
      "Epoch 37/50\n",
      "348/348 [==============================] - 1s 2ms/step - loss: 0.0119 - val_loss: 0.0120\n",
      "Epoch 38/50\n",
      "348/348 [==============================] - 1s 2ms/step - loss: 0.0119 - val_loss: 0.0120\n",
      "Epoch 39/50\n",
      "348/348 [==============================] - 1s 2ms/step - loss: 0.0119 - val_loss: 0.0120\n",
      "Epoch 40/50\n",
      "348/348 [==============================] - 1s 2ms/step - loss: 0.0119 - val_loss: 0.0121\n",
      "Epoch 41/50\n",
      "348/348 [==============================] - 1s 2ms/step - loss: 0.0119 - val_loss: 0.0121\n",
      "Epoch 42/50\n",
      "348/348 [==============================] - 1s 2ms/step - loss: 0.0119 - val_loss: 0.0120\n",
      "Epoch 43/50\n",
      "348/348 [==============================] - 1s 2ms/step - loss: 0.0119 - val_loss: 0.0121\n",
      "Epoch 44/50\n",
      "348/348 [==============================] - 1s 2ms/step - loss: 0.0119 - val_loss: 0.0120\n",
      "Epoch 45/50\n",
      "348/348 [==============================] - 1s 2ms/step - loss: 0.0119 - val_loss: 0.0120\n",
      "Epoch 46/50\n",
      "348/348 [==============================] - 1s 2ms/step - loss: 0.0119 - val_loss: 0.0121\n",
      "Epoch 47/50\n",
      "348/348 [==============================] - 1s 2ms/step - loss: 0.0119 - val_loss: 0.0121\n",
      "Epoch 48/50\n",
      "348/348 [==============================] - 1s 2ms/step - loss: 0.0119 - val_loss: 0.0120\n",
      "Epoch 49/50\n",
      "348/348 [==============================] - 1s 2ms/step - loss: 0.0119 - val_loss: 0.0120\n",
      "Epoch 50/50\n",
      "348/348 [==============================] - 1s 2ms/step - loss: 0.0119 - val_loss: 0.0120\n"
     ]
    },
    {
     "data": {
      "text/plain": [
       "<keras.callbacks.History at 0x7fd1f8eb5c30>"
      ]
     },
     "execution_count": 9,
     "metadata": {},
     "output_type": "execute_result"
    }
   ],
   "source": [
    "model_1d_conv.fit(X_train, Y_train, epochs=50, batch_size=32, validation_data=(X_test, Y_test), verbose = 1)"
   ]
  },
  {
   "cell_type": "code",
   "execution_count": 10,
   "id": "b7f4959d",
   "metadata": {},
   "outputs": [
    {
     "data": {
      "text/plain": [
       "(11109, 60)"
      ]
     },
     "execution_count": 10,
     "metadata": {},
     "output_type": "execute_result"
    }
   ],
   "source": []
  }
 ],
 "metadata": {
  "kernelspec": {
   "display_name": "Python 3 (ipykernel)",
   "language": "python",
   "name": "python3"
  },
  "language_info": {
   "codemirror_mode": {
    "name": "ipython",
    "version": 3
   },
   "file_extension": ".py",
   "mimetype": "text/x-python",
   "name": "python",
   "nbconvert_exporter": "python",
   "pygments_lexer": "ipython3",
   "version": "3.10.6"
  }
 },
 "nbformat": 4,
 "nbformat_minor": 5
}
